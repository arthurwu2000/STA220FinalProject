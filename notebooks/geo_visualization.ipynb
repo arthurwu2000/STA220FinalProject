{
 "cells": [
  {
   "cell_type": "code",
   "execution_count": 1,
   "id": "76f019e1-dfa5-4332-9701-d202537cae9b",
   "metadata": {},
   "outputs": [],
   "source": [
    "import numpy as np\n",
    "import pandas as pd\n",
    "import math\n",
    "import matplotlib.pyplot as plt\n",
    "\n",
    "import plotly.express as px\n",
    "import geopandas as gpd\n",
    "import plotly.graph_objects as go\n",
    "from shapely.geometry import LineString\n",
    "%matplotlib inline"
   ]
  },
  {
   "cell_type": "code",
   "execution_count": 2,
   "id": "f8f2829a-9f2e-471a-8013-8a687c33505d",
   "metadata": {},
   "outputs": [
    {
     "data": {
      "text/html": [
       "<div>\n",
       "<style scoped>\n",
       "    .dataframe tbody tr th:only-of-type {\n",
       "        vertical-align: middle;\n",
       "    }\n",
       "\n",
       "    .dataframe tbody tr th {\n",
       "        vertical-align: top;\n",
       "    }\n",
       "\n",
       "    .dataframe thead th {\n",
       "        text-align: right;\n",
       "    }\n",
       "</style>\n",
       "<table border=\"1\" class=\"dataframe\">\n",
       "  <thead>\n",
       "    <tr style=\"text-align: right;\">\n",
       "      <th></th>\n",
       "      <th>client_lat</th>\n",
       "      <th>client_lon</th>\n",
       "      <th>server_lat</th>\n",
       "      <th>server_lon</th>\n",
       "    </tr>\n",
       "  </thead>\n",
       "  <tbody>\n",
       "    <tr>\n",
       "      <th>0</th>\n",
       "      <td>34.142</td>\n",
       "      <td>-81.205</td>\n",
       "      <td>33.6367</td>\n",
       "      <td>-84.4281</td>\n",
       "    </tr>\n",
       "    <tr>\n",
       "      <th>1</th>\n",
       "      <td>33.607</td>\n",
       "      <td>-88.317</td>\n",
       "      <td>33.6367</td>\n",
       "      <td>-84.4281</td>\n",
       "    </tr>\n",
       "    <tr>\n",
       "      <th>2</th>\n",
       "      <td>37.751</td>\n",
       "      <td>-97.822</td>\n",
       "      <td>32.8969</td>\n",
       "      <td>-97.0381</td>\n",
       "    </tr>\n",
       "    <tr>\n",
       "      <th>3</th>\n",
       "      <td>36.978</td>\n",
       "      <td>-93.233</td>\n",
       "      <td>41.9786</td>\n",
       "      <td>-87.9047</td>\n",
       "    </tr>\n",
       "    <tr>\n",
       "      <th>4</th>\n",
       "      <td>43.164</td>\n",
       "      <td>-70.675</td>\n",
       "      <td>45.4576</td>\n",
       "      <td>-73.7497</td>\n",
       "    </tr>\n",
       "  </tbody>\n",
       "</table>\n",
       "</div>"
      ],
      "text/plain": [
       "   client_lat  client_lon  server_lat  server_lon\n",
       "0      34.142     -81.205     33.6367    -84.4281\n",
       "1      33.607     -88.317     33.6367    -84.4281\n",
       "2      37.751     -97.822     32.8969    -97.0381\n",
       "3      36.978     -93.233     41.9786    -87.9047\n",
       "4      43.164     -70.675     45.4576    -73.7497"
      ]
     },
     "execution_count": 2,
     "metadata": {},
     "output_type": "execute_result"
    }
   ],
   "source": [
    "df = pd.read_csv(\"../data/measurement_record_2009-2019/11-18_random_geoinfo.csv\")\n",
    "df.head(5)"
   ]
  },
  {
   "cell_type": "code",
   "execution_count": 3,
   "id": "24b065c7-de8d-4c24-9dc9-2ab453edc4be",
   "metadata": {},
   "outputs": [],
   "source": [
    "px.set_mapbox_access_token(open(\"../tools&keys/mapbox.txt\").read())"
   ]
  },
  {
   "cell_type": "code",
   "execution_count": 4,
   "id": "355d3106-c9bc-4e64-9fc9-e8014b777277",
   "metadata": {},
   "outputs": [],
   "source": [
    "fig = px.scatter_mapbox(df, \n",
    "                        lat='client_lat', \n",
    "                        lon='client_lon', \n",
    "                        zoom=3)\n",
    "# fig.show(width=1000, height=800)\n",
    "# fig.write_html('./graphs/client_loc_map.html')"
   ]
  },
  {
   "cell_type": "code",
   "execution_count": 5,
   "id": "4966bbfa-9654-4db1-9353-102a74afc66f",
   "metadata": {},
   "outputs": [],
   "source": [
    "fig = px.scatter_mapbox(df, \n",
    "                        lat='server_lat', \n",
    "                        lon='server_lon', \n",
    "                        zoom=3)\n",
    "# fig.show(width=1000, height=800)\n",
    "# fig.write_html('./graphs/server_loc_map.html')"
   ]
  },
  {
   "cell_type": "markdown",
   "id": "77c906b9-a507-4163-85b0-209b933e0c7b",
   "metadata": {},
   "source": [
    "We can see that the server and clients are not evenly distributed, so next we want to do get a random sample of this sample to further see what are the distance distribution."
   ]
  },
  {
   "cell_type": "code",
   "execution_count": 6,
   "id": "d1750e1c-a467-4a92-9417-a2d5e3dab5fd",
   "metadata": {},
   "outputs": [],
   "source": [
    "sample_df = df.sample(n=200, random_state=1)"
   ]
  },
  {
   "cell_type": "code",
   "execution_count": 8,
   "id": "1311fd6a-9e18-4f0b-9141-219b28b1016c",
   "metadata": {},
   "outputs": [
    {
     "data": {
      "application/vnd.plotly.v1+json": {
       "config": {
        "plotlyServerURL": "https://plot.ly"
       },
       "data": [
        {
         "lat": [
          42.587,
          43.6767
         ],
         "line": {
          "color": "black",
          "width": 1
         },
         "lon": [
          -83.236,
          -79.6306
         ],
         "mode": "lines",
         "showlegend": false,
         "type": "scattermapbox"
        },
        {
         "lat": [
          42.8356,
          40.7667
         ],
         "line": {
          "color": "black",
          "width": 1
         },
         "lon": [
          -78.7484,
          -73.8667
         ],
         "mode": "lines",
         "showlegend": false,
         "type": "scattermapbox"
        },
        {
         "lat": [
          32.959,
          32.8969
         ],
         "line": {
          "color": "black",
          "width": 1
         },
         "lon": [
          -96.981,
          -97.0381
         ],
         "mode": "lines",
         "showlegend": false,
         "type": "scattermapbox"
        },
        {
         "lat": [
          45.707,
          51.1315
         ],
         "line": {
          "color": "black",
          "width": 1
         },
         "lon": [
          -110.539,
          -114.0106
         ],
         "mode": "lines",
         "showlegend": false,
         "type": "scattermapbox"
        },
        {
         "lat": [
          38,
          33.9425
         ],
         "line": {
          "color": "black",
          "width": 1
         },
         "lon": [
          -97,
          -118.4072
         ],
         "mode": "lines",
         "showlegend": false,
         "type": "scattermapbox"
        },
        {
         "lat": [
          41.389,
          40.7667
         ],
         "line": {
          "color": "black",
          "width": 1
         },
         "lon": [
          -81.537,
          -73.8667
         ],
         "mode": "lines",
         "showlegend": false,
         "type": "scattermapbox"
        },
        {
         "lat": [
          37.679,
          37.3833
         ],
         "line": {
          "color": "black",
          "width": 1
         },
         "lon": [
          -122.476,
          -122.0667
         ],
         "mode": "lines",
         "showlegend": false,
         "type": "scattermapbox"
        },
        {
         "lat": [
          43.051,
          40.7667
         ],
         "line": {
          "color": "black",
          "width": 1
         },
         "lon": [
          -73.401,
          -73.8667
         ],
         "mode": "lines",
         "showlegend": false,
         "type": "scattermapbox"
        },
        {
         "lat": [
          28.006,
          25.7833
         ],
         "line": {
          "color": "black",
          "width": 1
         },
         "lon": [
          -82.59,
          -80.2667
         ],
         "mode": "lines",
         "showlegend": false,
         "type": "scattermapbox"
        },
        {
         "lat": [
          34.138,
          33.9425
         ],
         "line": {
          "color": "black",
          "width": 1
         },
         "lon": [
          -118.392,
          -118.4072
         ],
         "mode": "lines",
         "showlegend": false,
         "type": "scattermapbox"
        },
        {
         "lat": [
          37.834,
          37.3833
         ],
         "line": {
          "color": "black",
          "width": 1
         },
         "lon": [
          -122.265,
          -122.0667
         ],
         "mode": "lines",
         "showlegend": false,
         "type": "scattermapbox"
        },
        {
         "lat": [
          37.748,
          37.3833
         ],
         "line": {
          "color": "black",
          "width": 1
         },
         "lon": [
          -122.416,
          -122.0667
         ],
         "mode": "lines",
         "showlegend": false,
         "type": "scattermapbox"
        },
        {
         "lat": [
          33.994,
          33.9425
         ],
         "line": {
          "color": "black",
          "width": 1
         },
         "lon": [
          -118.464,
          -118.4072
         ],
         "mode": "lines",
         "showlegend": false,
         "type": "scattermapbox"
        },
        {
         "lat": [
          25.7806,
          25.7833
         ],
         "line": {
          "color": "black",
          "width": 1
         },
         "lon": [
          -80.1826,
          -80.2667
         ],
         "mode": "lines",
         "showlegend": false,
         "type": "scattermapbox"
        },
        {
         "lat": [
          33.0812,
          32.8969
         ],
         "line": {
          "color": "black",
          "width": 1
         },
         "lon": [
          -96.8133,
          -97.0381
         ],
         "mode": "lines",
         "showlegend": false,
         "type": "scattermapbox"
        },
        {
         "lat": [
          32.6615,
          32.8969
         ],
         "line": {
          "color": "black",
          "width": 1
         },
         "lon": [
          -97.1694,
          -97.0381
         ],
         "mode": "lines",
         "showlegend": false,
         "type": "scattermapbox"
        },
        {
         "lat": [
          33.762,
          32.8969
         ],
         "line": {
          "color": "black",
          "width": 1
         },
         "lon": [
          -84.398,
          -97.0381
         ],
         "mode": "lines",
         "showlegend": false,
         "type": "scattermapbox"
        },
        {
         "lat": [
          42.457,
          40.7667
         ],
         "line": {
          "color": "black",
          "width": 1
         },
         "lon": [
          -71.218,
          -73.8667
         ],
         "mode": "lines",
         "showlegend": false,
         "type": "scattermapbox"
        },
        {
         "lat": [
          44.571,
          40.7667
         ],
         "line": {
          "color": "black",
          "width": 1
         },
         "lon": [
          -70.512,
          -73.8667
         ],
         "mode": "lines",
         "showlegend": false,
         "type": "scattermapbox"
        },
        {
         "lat": [
          39.163,
          40.7667
         ],
         "line": {
          "color": "black",
          "width": 1
         },
         "lon": [
          -76.632,
          -73.8667
         ],
         "mode": "lines",
         "showlegend": false,
         "type": "scattermapbox"
        },
        {
         "lat": [
          40.736,
          41.9786
         ],
         "line": {
          "color": "black",
          "width": 1
         },
         "lon": [
          -74.072,
          -87.9047
         ],
         "mode": "lines",
         "showlegend": false,
         "type": "scattermapbox"
        },
        {
         "lat": [
          42.248,
          41.9786
         ],
         "line": {
          "color": "black",
          "width": 1
         },
         "lon": [
          -88.608,
          -87.9047
         ],
         "mode": "lines",
         "showlegend": false,
         "type": "scattermapbox"
        },
        {
         "lat": [
          37.812,
          33.9425
         ],
         "line": {
          "color": "black",
          "width": 1
         },
         "lon": [
          -122.242,
          -118.4072
         ],
         "mode": "lines",
         "showlegend": false,
         "type": "scattermapbox"
        },
        {
         "lat": [
          33.788,
          37.3833
         ],
         "line": {
          "color": "black",
          "width": 1
         },
         "lon": [
          -117.974,
          -122.0667
         ],
         "mode": "lines",
         "showlegend": false,
         "type": "scattermapbox"
        },
        {
         "lat": [
          28.6778,
          25.7833
         ],
         "line": {
          "color": "black",
          "width": 1
         },
         "lon": [
          -81.3278,
          -80.2667
         ],
         "mode": "lines",
         "showlegend": false,
         "type": "scattermapbox"
        },
        {
         "lat": [
          35.854,
          38.9444
         ],
         "line": {
          "color": "black",
          "width": 1
         },
         "lon": [
          -80.108,
          -77.4558
         ],
         "mode": "lines",
         "showlegend": false,
         "type": "scattermapbox"
        },
        {
         "lat": [
          39.917,
          40.7667
         ],
         "line": {
          "color": "black",
          "width": 1
         },
         "lon": [
          -76.726,
          -73.8667
         ],
         "mode": "lines",
         "showlegend": false,
         "type": "scattermapbox"
        },
        {
         "lat": [
          40.0925,
          40.7667
         ],
         "line": {
          "color": "black",
          "width": 1
         },
         "lon": [
          -74.9853,
          -73.8667
         ],
         "mode": "lines",
         "showlegend": false,
         "type": "scattermapbox"
        },
        {
         "lat": [
          34.0119,
          47.4489
         ],
         "line": {
          "color": "black",
          "width": 1
         },
         "lon": [
          -118.4682,
          -122.3094
         ],
         "mode": "lines",
         "showlegend": false,
         "type": "scattermapbox"
        },
        {
         "lat": [
          30.288,
          33.6367
         ],
         "line": {
          "color": "black",
          "width": 1
         },
         "lon": [
          -81.426,
          -84.4281
         ],
         "mode": "lines",
         "showlegend": false,
         "type": "scattermapbox"
        },
        {
         "lat": [
          26.114,
          25.7833
         ],
         "line": {
          "color": "black",
          "width": 1
         },
         "lon": [
          -80.384,
          -80.2667
         ],
         "mode": "lines",
         "showlegend": false,
         "type": "scattermapbox"
        },
        {
         "lat": [
          34.165,
          33.6367
         ],
         "line": {
          "color": "black",
          "width": 1
         },
         "lon": [
          -83.235,
          -84.4281
         ],
         "mode": "lines",
         "showlegend": false,
         "type": "scattermapbox"
        },
        {
         "lat": [
          42.38,
          40.7667
         ],
         "line": {
          "color": "black",
          "width": 1
         },
         "lon": [
          -71.1329,
          -73.8667
         ],
         "mode": "lines",
         "showlegend": false,
         "type": "scattermapbox"
        },
        {
         "lat": [
          44.77,
          45.4576
         ],
         "line": {
          "color": "black",
          "width": 1
         },
         "lon": [
          -69.428,
          -73.7497
         ],
         "mode": "lines",
         "showlegend": false,
         "type": "scattermapbox"
        },
        {
         "lat": [
          29.657,
          32.8969
         ],
         "line": {
          "color": "black",
          "width": 1
         },
         "lon": [
          -98.511,
          -97.0381
         ],
         "mode": "lines",
         "showlegend": false,
         "type": "scattermapbox"
        },
        {
         "lat": [
          35.1862,
          33.6367
         ],
         "line": {
          "color": "black",
          "width": 1
         },
         "lon": [
          -80.7479,
          -84.4281
         ],
         "mode": "lines",
         "showlegend": false,
         "type": "scattermapbox"
        },
        {
         "lat": [
          41.498,
          41.9786
         ],
         "line": {
          "color": "black",
          "width": 1
         },
         "lon": [
          -88.037,
          -87.9047
         ],
         "mode": "lines",
         "showlegend": false,
         "type": "scattermapbox"
        },
        {
         "lat": [
          38,
          40.7667
         ],
         "line": {
          "color": "black",
          "width": 1
         },
         "lon": [
          -97,
          -73.8667
         ],
         "mode": "lines",
         "showlegend": false,
         "type": "scattermapbox"
        },
        {
         "lat": [
          38.909,
          38.9444
         ],
         "line": {
          "color": "black",
          "width": 1
         },
         "lon": [
          -77.018,
          -77.4558
         ],
         "mode": "lines",
         "showlegend": false,
         "type": "scattermapbox"
        },
        {
         "lat": [
          39.974,
          41.9786
         ],
         "line": {
          "color": "black",
          "width": 1
         },
         "lon": [
          -86.176,
          -87.9047
         ],
         "mode": "lines",
         "showlegend": false,
         "type": "scattermapbox"
        },
        {
         "lat": [
          39.969,
          40.7667
         ],
         "line": {
          "color": "black",
          "width": 1
         },
         "lon": [
          -75.176,
          -73.8667
         ],
         "mode": "lines",
         "showlegend": false,
         "type": "scattermapbox"
        },
        {
         "lat": [
          41.832,
          41.9786
         ],
         "line": {
          "color": "black",
          "width": 1
         },
         "lon": [
          -87.79,
          -87.9047
         ],
         "mode": "lines",
         "showlegend": false,
         "type": "scattermapbox"
        },
        {
         "lat": [
          32.815,
          32.8969
         ],
         "line": {
          "color": "black",
          "width": 1
         },
         "lon": [
          -96.87,
          -97.0381
         ],
         "mode": "lines",
         "showlegend": false,
         "type": "scattermapbox"
        },
        {
         "lat": [
          47.56,
          32.8969
         ],
         "line": {
          "color": "black",
          "width": 1
         },
         "lon": [
          -122.228,
          -97.0381
         ],
         "mode": "lines",
         "showlegend": false,
         "type": "scattermapbox"
        },
        {
         "lat": [
          41.309,
          32.8969
         ],
         "line": {
          "color": "black",
          "width": 1
         },
         "lon": [
          -72.924,
          -97.0381
         ],
         "mode": "lines",
         "showlegend": false,
         "type": "scattermapbox"
        },
        {
         "lat": [
          26.272,
          25.7833
         ],
         "line": {
          "color": "black",
          "width": 1
         },
         "lon": [
          -80.258,
          -80.2667
         ],
         "mode": "lines",
         "showlegend": false,
         "type": "scattermapbox"
        },
        {
         "lat": [
          39.494,
          40.7667
         ],
         "line": {
          "color": "black",
          "width": 1
         },
         "lon": [
          -76.911,
          -73.8667
         ],
         "mode": "lines",
         "showlegend": false,
         "type": "scattermapbox"
        },
        {
         "lat": [
          30.141,
          32.8969
         ],
         "line": {
          "color": "black",
          "width": 1
         },
         "lon": [
          -95.469,
          -97.0381
         ],
         "mode": "lines",
         "showlegend": false,
         "type": "scattermapbox"
        },
        {
         "lat": [
          32.957,
          33.9425
         ],
         "line": {
          "color": "black",
          "width": 1
         },
         "lon": [
          -117.198,
          -118.4072
         ],
         "mode": "lines",
         "showlegend": false,
         "type": "scattermapbox"
        },
        {
         "lat": [
          40.101,
          40.7667
         ],
         "line": {
          "color": "black",
          "width": 1
         },
         "lon": [
          -75.641,
          -73.8667
         ],
         "mode": "lines",
         "showlegend": false,
         "type": "scattermapbox"
        },
        {
         "lat": [
          40.029,
          41.9786
         ],
         "line": {
          "color": "black",
          "width": 1
         },
         "lon": [
          -83.081,
          -87.9047
         ],
         "mode": "lines",
         "showlegend": false,
         "type": "scattermapbox"
        },
        {
         "lat": [
          32.231,
          32.8969
         ],
         "line": {
          "color": "black",
          "width": 1
         },
         "lon": [
          -95.296,
          -97.0381
         ],
         "mode": "lines",
         "showlegend": false,
         "type": "scattermapbox"
        },
        {
         "lat": [
          33.035,
          32.8969
         ],
         "line": {
          "color": "black",
          "width": 1
         },
         "lon": [
          -96.813,
          -97.0381
         ],
         "mode": "lines",
         "showlegend": false,
         "type": "scattermapbox"
        },
        {
         "lat": [
          33.7271,
          33.6367
         ],
         "line": {
          "color": "black",
          "width": 1
         },
         "lon": [
          -84.5785,
          -84.4281
         ],
         "mode": "lines",
         "showlegend": false,
         "type": "scattermapbox"
        },
        {
         "lat": [
          37.3744,
          37.3833
         ],
         "line": {
          "color": "black",
          "width": 1
         },
         "lon": [
          -121.7582,
          -122.0667
         ],
         "mode": "lines",
         "showlegend": false,
         "type": "scattermapbox"
        },
        {
         "lat": [
          39.597,
          41.9786
         ],
         "line": {
          "color": "black",
          "width": 1
         },
         "lon": [
          -84.156,
          -87.9047
         ],
         "mode": "lines",
         "showlegend": false,
         "type": "scattermapbox"
        },
        {
         "lat": [
          41.832,
          41.9786
         ],
         "line": {
          "color": "black",
          "width": 1
         },
         "lon": [
          -87.79,
          -87.9047
         ],
         "mode": "lines",
         "showlegend": false,
         "type": "scattermapbox"
        },
        {
         "lat": [
          29.94,
          33.6367
         ],
         "line": {
          "color": "black",
          "width": 1
         },
         "lon": [
          -82.701,
          -84.4281
         ],
         "mode": "lines",
         "showlegend": false,
         "type": "scattermapbox"
        },
        {
         "lat": [
          33.432,
          33.9425
         ],
         "line": {
          "color": "black",
          "width": 1
         },
         "lon": [
          -112.015,
          -118.4072
         ],
         "mode": "lines",
         "showlegend": false,
         "type": "scattermapbox"
        },
        {
         "lat": [
          38,
          40.7667
         ],
         "line": {
          "color": "black",
          "width": 1
         },
         "lon": [
          -97,
          -73.8667
         ],
         "mode": "lines",
         "showlegend": false,
         "type": "scattermapbox"
        },
        {
         "lat": [
          37.769,
          37.3833
         ],
         "line": {
          "color": "black",
          "width": 1
         },
         "lon": [
          -122.445,
          -122.0667
         ],
         "mode": "lines",
         "showlegend": false,
         "type": "scattermapbox"
        },
        {
         "lat": [
          39.759,
          39.8561
         ],
         "line": {
          "color": "black",
          "width": 1
         },
         "lon": [
          -104.969,
          -104.6737
         ],
         "mode": "lines",
         "showlegend": false,
         "type": "scattermapbox"
        },
        {
         "lat": [
          33.938,
          33.9425
         ],
         "line": {
          "color": "black",
          "width": 1
         },
         "lon": [
          -117.231,
          -118.4072
         ],
         "mode": "lines",
         "showlegend": false,
         "type": "scattermapbox"
        },
        {
         "lat": [
          35.15,
          32.8969
         ],
         "line": {
          "color": "black",
          "width": 1
         },
         "lon": [
          -101.873,
          -97.0381
         ],
         "mode": "lines",
         "showlegend": false,
         "type": "scattermapbox"
        },
        {
         "lat": [
          25.798,
          25.7833
         ],
         "line": {
          "color": "black",
          "width": 1
         },
         "lon": [
          -80.321,
          -80.2667
         ],
         "mode": "lines",
         "showlegend": false,
         "type": "scattermapbox"
        },
        {
         "lat": [
          30.606,
          33.6367
         ],
         "line": {
          "color": "black",
          "width": 1
         },
         "lon": [
          -87.858,
          -84.4281
         ],
         "mode": "lines",
         "showlegend": false,
         "type": "scattermapbox"
        },
        {
         "lat": [
          40.085,
          41.9786
         ],
         "line": {
          "color": "black",
          "width": 1
         },
         "lon": [
          -82.975,
          -87.9047
         ],
         "mode": "lines",
         "showlegend": false,
         "type": "scattermapbox"
        },
        {
         "lat": [
          34.007,
          37.3833
         ],
         "line": {
          "color": "black",
          "width": 1
         },
         "lon": [
          -118.032,
          -122.0667
         ],
         "mode": "lines",
         "showlegend": false,
         "type": "scattermapbox"
        },
        {
         "lat": [
          37.748,
          37.3833
         ],
         "line": {
          "color": "black",
          "width": 1
         },
         "lon": [
          -122.416,
          -122.0667
         ],
         "mode": "lines",
         "showlegend": false,
         "type": "scattermapbox"
        },
        {
         "lat": [
          40.61,
          40.7667
         ],
         "line": {
          "color": "black",
          "width": 1
         },
         "lon": [
          -73.911,
          -73.8667
         ],
         "mode": "lines",
         "showlegend": false,
         "type": "scattermapbox"
        },
        {
         "lat": [
          42.611,
          40.7667
         ],
         "line": {
          "color": "black",
          "width": 1
         },
         "lon": [
          -71.231,
          -73.8667
         ],
         "mode": "lines",
         "showlegend": false,
         "type": "scattermapbox"
        },
        {
         "lat": [
          37.751,
          32.8969
         ],
         "line": {
          "color": "black",
          "width": 1
         },
         "lon": [
          -97.822,
          -97.0381
         ],
         "mode": "lines",
         "showlegend": false,
         "type": "scattermapbox"
        },
        {
         "lat": [
          25.9489,
          25.7833
         ],
         "line": {
          "color": "black",
          "width": 1
         },
         "lon": [
          -80.2422,
          -80.2667
         ],
         "mode": "lines",
         "showlegend": false,
         "type": "scattermapbox"
        },
        {
         "lat": [
          37.748,
          25.7833
         ],
         "line": {
          "color": "black",
          "width": 1
         },
         "lon": [
          -84.295,
          -80.2667
         ],
         "mode": "lines",
         "showlegend": false,
         "type": "scattermapbox"
        },
        {
         "lat": [
          33.827,
          33.6367
         ],
         "line": {
          "color": "black",
          "width": 1
         },
         "lon": [
          -84.324,
          -84.4281
         ],
         "mode": "lines",
         "showlegend": false,
         "type": "scattermapbox"
        },
        {
         "lat": [
          30.4,
          32.8969
         ],
         "line": {
          "color": "black",
          "width": 1
         },
         "lon": [
          -97.7528,
          -97.0381
         ],
         "mode": "lines",
         "showlegend": false,
         "type": "scattermapbox"
        },
        {
         "lat": [
          37.1702,
          32.8969
         ],
         "line": {
          "color": "black",
          "width": 1
         },
         "lon": [
          -93.3297,
          -97.0381
         ],
         "mode": "lines",
         "showlegend": false,
         "type": "scattermapbox"
        },
        {
         "lat": [
          38.537,
          37.3833
         ],
         "line": {
          "color": "black",
          "width": 1
         },
         "lon": [
          -121.663,
          -122.0667
         ],
         "mode": "lines",
         "showlegend": false,
         "type": "scattermapbox"
        },
        {
         "lat": [
          35.185,
          33.6367
         ],
         "line": {
          "color": "black",
          "width": 1
         },
         "lon": [
          -90.094,
          -84.4281
         ],
         "mode": "lines",
         "showlegend": false,
         "type": "scattermapbox"
        },
        {
         "lat": [
          41.922,
          41.9786
         ],
         "line": {
          "color": "black",
          "width": 1
         },
         "lon": [
          -87.652,
          -87.9047
         ],
         "mode": "lines",
         "showlegend": false,
         "type": "scattermapbox"
        },
        {
         "lat": [
          39.687,
          41.9786
         ],
         "line": {
          "color": "black",
          "width": 1
         },
         "lon": [
          -84.164,
          -87.9047
         ],
         "mode": "lines",
         "showlegend": false,
         "type": "scattermapbox"
        },
        {
         "lat": [
          40.648,
          40.7667
         ],
         "line": {
          "color": "black",
          "width": 1
         },
         "lon": [
          -73.934,
          -73.8667
         ],
         "mode": "lines",
         "showlegend": false,
         "type": "scattermapbox"
        },
        {
         "lat": [
          33.036,
          32.8969
         ],
         "line": {
          "color": "black",
          "width": 1
         },
         "lon": [
          -96.671,
          -97.0381
         ],
         "mode": "lines",
         "showlegend": false,
         "type": "scattermapbox"
        },
        {
         "lat": [
          43.0056,
          40.7667
         ],
         "line": {
          "color": "black",
          "width": 1
         },
         "lon": [
          -73.8628,
          -73.8667
         ],
         "mode": "lines",
         "showlegend": false,
         "type": "scattermapbox"
        },
        {
         "lat": [
          44.06,
          41.9786
         ],
         "line": {
          "color": "black",
          "width": 1
         },
         "lon": [
          -88.528,
          -87.9047
         ],
         "mode": "lines",
         "showlegend": false,
         "type": "scattermapbox"
        },
        {
         "lat": [
          40.153,
          41.9786
         ],
         "line": {
          "color": "black",
          "width": 1
         },
         "lon": [
          -87.646,
          -87.9047
         ],
         "mode": "lines",
         "showlegend": false,
         "type": "scattermapbox"
        },
        {
         "lat": [
          25.894,
          25.7833
         ],
         "line": {
          "color": "black",
          "width": 1
         },
         "lon": [
          -80.182,
          -80.2667
         ],
         "mode": "lines",
         "showlegend": false,
         "type": "scattermapbox"
        },
        {
         "lat": [
          45.63,
          47.4489
         ],
         "line": {
          "color": "black",
          "width": 1
         },
         "lon": [
          -122.52,
          -122.3094
         ],
         "mode": "lines",
         "showlegend": false,
         "type": "scattermapbox"
        },
        {
         "lat": [
          34.97,
          37.3833
         ],
         "line": {
          "color": "black",
          "width": 1
         },
         "lon": [
          -116.993,
          -122.0667
         ],
         "mode": "lines",
         "showlegend": false,
         "type": "scattermapbox"
        },
        {
         "lat": [
          34.154,
          45.4576
         ],
         "line": {
          "color": "black",
          "width": 1
         },
         "lon": [
          -117.764,
          -73.7497
         ],
         "mode": "lines",
         "showlegend": false,
         "type": "scattermapbox"
        },
        {
         "lat": [
          38,
          33.9425
         ],
         "line": {
          "color": "black",
          "width": 1
         },
         "lon": [
          -97,
          -118.4072
         ],
         "mode": "lines",
         "showlegend": false,
         "type": "scattermapbox"
        },
        {
         "lat": [
          33.789,
          33.9425
         ],
         "line": {
          "color": "black",
          "width": 1
         },
         "lon": [
          -117.869,
          -118.4072
         ],
         "mode": "lines",
         "showlegend": false,
         "type": "scattermapbox"
        },
        {
         "lat": [
          36.742,
          41.9786
         ],
         "line": {
          "color": "black",
          "width": 1
         },
         "lon": [
          -93.029,
          -87.9047
         ],
         "mode": "lines",
         "showlegend": false,
         "type": "scattermapbox"
        },
        {
         "lat": [
          41.501,
          40.7667
         ],
         "line": {
          "color": "black",
          "width": 1
         },
         "lon": [
          -75.603,
          -73.8667
         ],
         "mode": "lines",
         "showlegend": false,
         "type": "scattermapbox"
        },
        {
         "lat": [
          47.572,
          47.4489
         ],
         "line": {
          "color": "black",
          "width": 1
         },
         "lon": [
          -122.333,
          -122.3094
         ],
         "mode": "lines",
         "showlegend": false,
         "type": "scattermapbox"
        },
        {
         "lat": [
          36.548,
          41.9786
         ],
         "line": {
          "color": "black",
          "width": 1
         },
         "lon": [
          -82.562,
          -87.9047
         ],
         "mode": "lines",
         "showlegend": false,
         "type": "scattermapbox"
        },
        {
         "lat": [
          33.466,
          33.9425
         ],
         "line": {
          "color": "black",
          "width": 1
         },
         "lon": [
          -111.925,
          -118.4072
         ],
         "mode": "lines",
         "showlegend": false,
         "type": "scattermapbox"
        },
        {
         "lat": [
          38.938,
          32.8969
         ],
         "line": {
          "color": "black",
          "width": 1
         },
         "lon": [
          -77.093,
          -97.0381
         ],
         "mode": "lines",
         "showlegend": false,
         "type": "scattermapbox"
        },
        {
         "lat": [
          37.653,
          37.3833
         ],
         "line": {
          "color": "black",
          "width": 1
         },
         "lon": [
          -122.423,
          -122.0667
         ],
         "mode": "lines",
         "showlegend": false,
         "type": "scattermapbox"
        },
        {
         "lat": [
          43.066,
          41.9786
         ],
         "line": {
          "color": "black",
          "width": 1
         },
         "lon": [
          -88.754,
          -87.9047
         ],
         "mode": "lines",
         "showlegend": false,
         "type": "scattermapbox"
        },
        {
         "lat": [
          41.892,
          41.9786
         ],
         "line": {
          "color": "black",
          "width": 1
         },
         "lon": [
          -87.936,
          -87.9047
         ],
         "mode": "lines",
         "showlegend": false,
         "type": "scattermapbox"
        },
        {
         "lat": [
          36.748,
          33.9425
         ],
         "line": {
          "color": "black",
          "width": 1
         },
         "lon": [
          -119.772,
          -118.4072
         ],
         "mode": "lines",
         "showlegend": false,
         "type": "scattermapbox"
        },
        {
         "lat": [
          31.989,
          33.6367
         ],
         "line": {
          "color": "black",
          "width": 1
         },
         "lon": [
          -83.3217,
          -84.4281
         ],
         "mode": "lines",
         "showlegend": false,
         "type": "scattermapbox"
        },
        {
         "lat": [
          37.682,
          37.3833
         ],
         "line": {
          "color": "black",
          "width": 1
         },
         "lon": [
          -121.768,
          -122.0667
         ],
         "mode": "lines",
         "showlegend": false,
         "type": "scattermapbox"
        },
        {
         "lat": [
          38.879,
          38.9444
         ],
         "line": {
          "color": "black",
          "width": 1
         },
         "lon": [
          -77.377,
          -77.4558
         ],
         "mode": "lines",
         "showlegend": false,
         "type": "scattermapbox"
        },
        {
         "lat": [
          36.753,
          38.9444
         ],
         "line": {
          "color": "black",
          "width": 1
         },
         "lon": [
          -78.197,
          -77.4558
         ],
         "mode": "lines",
         "showlegend": false,
         "type": "scattermapbox"
        },
        {
         "lat": [
          34.066,
          45.4576
         ],
         "line": {
          "color": "black",
          "width": 1
         },
         "lon": [
          -118.436,
          -73.7497
         ],
         "mode": "lines",
         "showlegend": false,
         "type": "scattermapbox"
        },
        {
         "lat": [
          42.0182,
          41.9786
         ],
         "line": {
          "color": "black",
          "width": 1
         },
         "lon": [
          -88.2173,
          -87.9047
         ],
         "mode": "lines",
         "showlegend": false,
         "type": "scattermapbox"
        },
        {
         "lat": [
          38.393,
          37.3833
         ],
         "line": {
          "color": "black",
          "width": 1
         },
         "lon": [
          -122.751,
          -122.0667
         ],
         "mode": "lines",
         "showlegend": false,
         "type": "scattermapbox"
        },
        {
         "lat": [
          41.3969,
          33.6367
         ],
         "line": {
          "color": "black",
          "width": 1
         },
         "lon": [
          -87.3274,
          -84.4281
         ],
         "mode": "lines",
         "showlegend": false,
         "type": "scattermapbox"
        },
        {
         "lat": [
          37.474,
          47.4489
         ],
         "line": {
          "color": "black",
          "width": 1
         },
         "lon": [
          -120.857,
          -122.3094
         ],
         "mode": "lines",
         "showlegend": false,
         "type": "scattermapbox"
        },
        {
         "lat": [
          47.584,
          47.4489
         ],
         "line": {
          "color": "black",
          "width": 1
         },
         "lon": [
          -122.299,
          -122.3094
         ],
         "mode": "lines",
         "showlegend": false,
         "type": "scattermapbox"
        },
        {
         "lat": [
          35.136,
          33.6367
         ],
         "line": {
          "color": "black",
          "width": 1
         },
         "lon": [
          -89.773,
          -84.4281
         ],
         "mode": "lines",
         "showlegend": false,
         "type": "scattermapbox"
        },
        {
         "lat": [
          42.75,
          40.7667
         ],
         "line": {
          "color": "black",
          "width": 1
         },
         "lon": [
          -73.595,
          -73.8667
         ],
         "mode": "lines",
         "showlegend": false,
         "type": "scattermapbox"
        },
        {
         "lat": [
          45.167,
          41.9786
         ],
         "line": {
          "color": "black",
          "width": 1
         },
         "lon": [
          -93.248,
          -87.9047
         ],
         "mode": "lines",
         "showlegend": false,
         "type": "scattermapbox"
        },
        {
         "lat": [
          41.9,
          41.9786
         ],
         "line": {
          "color": "black",
          "width": 1
         },
         "lon": [
          -87.637,
          -87.9047
         ],
         "mode": "lines",
         "showlegend": false,
         "type": "scattermapbox"
        },
        {
         "lat": [
          37.748,
          37.3833
         ],
         "line": {
          "color": "black",
          "width": 1
         },
         "lon": [
          -122.416,
          -122.0667
         ],
         "mode": "lines",
         "showlegend": false,
         "type": "scattermapbox"
        },
        {
         "lat": [
          42.056,
          40.7667
         ],
         "line": {
          "color": "black",
          "width": 1
         },
         "lon": [
          -71.12,
          -73.8667
         ],
         "mode": "lines",
         "showlegend": false,
         "type": "scattermapbox"
        },
        {
         "lat": [
          39.74,
          40.7667
         ],
         "line": {
          "color": "black",
          "width": 1
         },
         "lon": [
          -74.971,
          -73.8667
         ],
         "mode": "lines",
         "showlegend": false,
         "type": "scattermapbox"
        },
        {
         "lat": [
          39.978,
          40.7667
         ],
         "line": {
          "color": "black",
          "width": 1
         },
         "lon": [
          -75.122,
          -73.8667
         ],
         "mode": "lines",
         "showlegend": false,
         "type": "scattermapbox"
        },
        {
         "lat": [
          30.213,
          32.8969
         ],
         "line": {
          "color": "black",
          "width": 1
         },
         "lon": [
          -95.539,
          -97.0381
         ],
         "mode": "lines",
         "showlegend": false,
         "type": "scattermapbox"
        },
        {
         "lat": [
          47.308,
          47.4489
         ],
         "line": {
          "color": "black",
          "width": 1
         },
         "lon": [
          -122.264,
          -122.3094
         ],
         "mode": "lines",
         "showlegend": false,
         "type": "scattermapbox"
        },
        {
         "lat": [
          39.132,
          38.9444
         ],
         "line": {
          "color": "black",
          "width": 1
         },
         "lon": [
          -77.288,
          -77.4558
         ],
         "mode": "lines",
         "showlegend": false,
         "type": "scattermapbox"
        },
        {
         "lat": [
          43.048,
          43.6767
         ],
         "line": {
          "color": "black",
          "width": 1
         },
         "lon": [
          -76.296,
          -79.6306
         ],
         "mode": "lines",
         "showlegend": false,
         "type": "scattermapbox"
        },
        {
         "lat": [
          37.735,
          40.7667
         ],
         "line": {
          "color": "black",
          "width": 1
         },
         "lon": [
          -122.373,
          -73.8667
         ],
         "mode": "lines",
         "showlegend": false,
         "type": "scattermapbox"
        },
        {
         "lat": [
          47.634,
          47.4489
         ],
         "line": {
          "color": "black",
          "width": 1
         },
         "lon": [
          -122.342,
          -122.3094
         ],
         "mode": "lines",
         "showlegend": false,
         "type": "scattermapbox"
        },
        {
         "lat": [
          32.731,
          33.9425
         ],
         "line": {
          "color": "black",
          "width": 1
         },
         "lon": [
          -117.039,
          -118.4072
         ],
         "mode": "lines",
         "showlegend": false,
         "type": "scattermapbox"
        },
        {
         "lat": [
          61.215,
          47.4489
         ],
         "line": {
          "color": "black",
          "width": 1
         },
         "lon": [
          -149.258,
          -122.3094
         ],
         "mode": "lines",
         "showlegend": false,
         "type": "scattermapbox"
        },
        {
         "lat": [
          33.249,
          33.9425
         ],
         "line": {
          "color": "black",
          "width": 1
         },
         "lon": [
          -111.634,
          -118.4072
         ],
         "mode": "lines",
         "showlegend": false,
         "type": "scattermapbox"
        },
        {
         "lat": [
          28.473,
          32.8969
         ],
         "line": {
          "color": "black",
          "width": 1
         },
         "lon": [
          -97.707,
          -97.0381
         ],
         "mode": "lines",
         "showlegend": false,
         "type": "scattermapbox"
        },
        {
         "lat": [
          30.366,
          32.8969
         ],
         "line": {
          "color": "black",
          "width": 1
         },
         "lon": [
          -97.644,
          -97.0381
         ],
         "mode": "lines",
         "showlegend": false,
         "type": "scattermapbox"
        },
        {
         "lat": [
          25.7806,
          33.6367
         ],
         "line": {
          "color": "black",
          "width": 1
         },
         "lon": [
          -80.1826,
          -84.4281
         ],
         "mode": "lines",
         "showlegend": false,
         "type": "scattermapbox"
        },
        {
         "lat": [
          42.056,
          41.9786
         ],
         "line": {
          "color": "black",
          "width": 1
         },
         "lon": [
          -87.701,
          -87.9047
         ],
         "mode": "lines",
         "showlegend": false,
         "type": "scattermapbox"
        },
        {
         "lat": [
          32.978,
          33.9425
         ],
         "line": {
          "color": "black",
          "width": 1
         },
         "lon": [
          -117.023,
          -118.4072
         ],
         "mode": "lines",
         "showlegend": false,
         "type": "scattermapbox"
        },
        {
         "lat": [
          31.759,
          32.8969
         ],
         "line": {
          "color": "black",
          "width": 1
         },
         "lon": [
          -106.487,
          -97.0381
         ],
         "mode": "lines",
         "showlegend": false,
         "type": "scattermapbox"
        },
        {
         "lat": [
          45.195,
          47.4489
         ],
         "line": {
          "color": "black",
          "width": 1
         },
         "lon": [
          -123.247,
          -122.3094
         ],
         "mode": "lines",
         "showlegend": false,
         "type": "scattermapbox"
        },
        {
         "lat": [
          41.145,
          32.8969
         ],
         "line": {
          "color": "black",
          "width": 1
         },
         "lon": [
          -73.343,
          -97.0381
         ],
         "mode": "lines",
         "showlegend": false,
         "type": "scattermapbox"
        },
        {
         "lat": [
          42.036,
          41.9786
         ],
         "line": {
          "color": "black",
          "width": 1
         },
         "lon": [
          -88.38,
          -87.9047
         ],
         "mode": "lines",
         "showlegend": false,
         "type": "scattermapbox"
        },
        {
         "lat": [
          33.624,
          33.9425
         ],
         "line": {
          "color": "black",
          "width": 1
         },
         "lon": [
          -112.051,
          -118.4072
         ],
         "mode": "lines",
         "showlegend": false,
         "type": "scattermapbox"
        },
        {
         "lat": [
          34.154,
          33.6367
         ],
         "line": {
          "color": "black",
          "width": 1
         },
         "lon": [
          -86.747,
          -84.4281
         ],
         "mode": "lines",
         "showlegend": false,
         "type": "scattermapbox"
        },
        {
         "lat": [
          45.545,
          47.4489
         ],
         "line": {
          "color": "black",
          "width": 1
         },
         "lon": [
          -121.154,
          -122.3094
         ],
         "mode": "lines",
         "showlegend": false,
         "type": "scattermapbox"
        },
        {
         "lat": [
          29.9736,
          33.6367
         ],
         "line": {
          "color": "black",
          "width": 1
         },
         "lon": [
          -90.0857,
          -84.4281
         ],
         "mode": "lines",
         "showlegend": false,
         "type": "scattermapbox"
        },
        {
         "lat": [
          32.8148,
          32.8969
         ],
         "line": {
          "color": "black",
          "width": 1
         },
         "lon": [
          -96.8705,
          -97.0381
         ],
         "mode": "lines",
         "showlegend": false,
         "type": "scattermapbox"
        },
        {
         "lat": [
          40.694,
          40.7667
         ],
         "line": {
          "color": "black",
          "width": 1
         },
         "lon": [
          -73.991,
          -73.8667
         ],
         "mode": "lines",
         "showlegend": false,
         "type": "scattermapbox"
        },
        {
         "lat": [
          25.603,
          25.7833
         ],
         "line": {
          "color": "black",
          "width": 1
         },
         "lon": [
          -80.335,
          -80.2667
         ],
         "mode": "lines",
         "showlegend": false,
         "type": "scattermapbox"
        },
        {
         "lat": [
          39.848,
          41.9786
         ],
         "line": {
          "color": "black",
          "width": 1
         },
         "lon": [
          -86.195,
          -87.9047
         ],
         "mode": "lines",
         "showlegend": false,
         "type": "scattermapbox"
        },
        {
         "lat": [
          37.751,
          33.9425
         ],
         "line": {
          "color": "black",
          "width": 1
         },
         "lon": [
          -97.822,
          -118.4072
         ],
         "mode": "lines",
         "showlegend": false,
         "type": "scattermapbox"
        },
        {
         "lat": [
          28.752,
          25.7833
         ],
         "line": {
          "color": "black",
          "width": 1
         },
         "lon": [
          -81.247,
          -80.2667
         ],
         "mode": "lines",
         "showlegend": false,
         "type": "scattermapbox"
        },
        {
         "lat": [
          40.108,
          32.8969
         ],
         "line": {
          "color": "black",
          "width": 1
         },
         "lon": [
          -75.22,
          -97.0381
         ],
         "mode": "lines",
         "showlegend": false,
         "type": "scattermapbox"
        },
        {
         "lat": [
          42.068,
          41.9786
         ],
         "line": {
          "color": "black",
          "width": 1
         },
         "lon": [
          -88.019,
          -87.9047
         ],
         "mode": "lines",
         "showlegend": false,
         "type": "scattermapbox"
        },
        {
         "lat": [
          30.1843,
          32.8969
         ],
         "line": {
          "color": "black",
          "width": 1
         },
         "lon": [
          -92.0497,
          -97.0381
         ],
         "mode": "lines",
         "showlegend": false,
         "type": "scattermapbox"
        },
        {
         "lat": [
          34.049,
          33.9425
         ],
         "line": {
          "color": "black",
          "width": 1
         },
         "lon": [
          -118.442,
          -118.4072
         ],
         "mode": "lines",
         "showlegend": false,
         "type": "scattermapbox"
        },
        {
         "lat": [
          40.279,
          40.7667
         ],
         "line": {
          "color": "black",
          "width": 1
         },
         "lon": [
          -74.368,
          -73.8667
         ],
         "mode": "lines",
         "showlegend": false,
         "type": "scattermapbox"
        },
        {
         "lat": [
          42.262,
          40.7667
         ],
         "line": {
          "color": "black",
          "width": 1
         },
         "lon": [
          -72.503,
          -73.8667
         ],
         "mode": "lines",
         "showlegend": false,
         "type": "scattermapbox"
        },
        {
         "lat": [
          37.342,
          37.3833
         ],
         "line": {
          "color": "black",
          "width": 1
         },
         "lon": [
          -121.905,
          -122.0667
         ],
         "mode": "lines",
         "showlegend": false,
         "type": "scattermapbox"
        },
        {
         "lat": [
          43.03,
          43.6767
         ],
         "line": {
          "color": "black",
          "width": 1
         },
         "lon": [
          -76.004,
          -79.6306
         ],
         "mode": "lines",
         "showlegend": false,
         "type": "scattermapbox"
        },
        {
         "lat": [
          33.071,
          33.9425
         ],
         "line": {
          "color": "black",
          "width": 1
         },
         "lon": [
          -116.837,
          -118.4072
         ],
         "mode": "lines",
         "showlegend": false,
         "type": "scattermapbox"
        },
        {
         "lat": [
          33.968,
          33.9425
         ],
         "line": {
          "color": "black",
          "width": 1
         },
         "lon": [
          -117.3194,
          -118.4072
         ],
         "mode": "lines",
         "showlegend": false,
         "type": "scattermapbox"
        },
        {
         "lat": [
          42.127,
          41.9786
         ],
         "line": {
          "color": "black",
          "width": 1
         },
         "lon": [
          -86.307,
          -87.9047
         ],
         "mode": "lines",
         "showlegend": false,
         "type": "scattermapbox"
        },
        {
         "lat": [
          30.725,
          32.8969
         ],
         "line": {
          "color": "black",
          "width": 1
         },
         "lon": [
          -94.823,
          -97.0381
         ],
         "mode": "lines",
         "showlegend": false,
         "type": "scattermapbox"
        },
        {
         "lat": [
          37.776,
          37.3833
         ],
         "line": {
          "color": "black",
          "width": 1
         },
         "lon": [
          -122.413,
          -122.0667
         ],
         "mode": "lines",
         "showlegend": false,
         "type": "scattermapbox"
        },
        {
         "lat": [
          35.205,
          32.8969
         ],
         "line": {
          "color": "black",
          "width": 1
         },
         "lon": [
          -88.15,
          -97.0381
         ],
         "mode": "lines",
         "showlegend": false,
         "type": "scattermapbox"
        },
        {
         "lat": [
          38,
          32.8969
         ],
         "line": {
          "color": "black",
          "width": 1
         },
         "lon": [
          -97,
          -97.0381
         ],
         "mode": "lines",
         "showlegend": false,
         "type": "scattermapbox"
        },
        {
         "lat": [
          47.606,
          47.4489
         ],
         "line": {
          "color": "black",
          "width": 1
         },
         "lon": [
          -122.332,
          -122.3094
         ],
         "mode": "lines",
         "showlegend": false,
         "type": "scattermapbox"
        },
        {
         "lat": [
          26.1546,
          32.8969
         ],
         "line": {
          "color": "black",
          "width": 1
         },
         "lon": [
          -98.2045,
          -97.0381
         ],
         "mode": "lines",
         "showlegend": false,
         "type": "scattermapbox"
        },
        {
         "lat": [
          40.6789,
          40.7667
         ],
         "line": {
          "color": "black",
          "width": 1
         },
         "lon": [
          -73.4474,
          -73.8667
         ],
         "mode": "lines",
         "showlegend": false,
         "type": "scattermapbox"
        },
        {
         "lat": [
          33.6,
          33.9425
         ],
         "line": {
          "color": "black",
          "width": 1
         },
         "lon": [
          -117.672,
          -118.4072
         ],
         "mode": "lines",
         "showlegend": false,
         "type": "scattermapbox"
        },
        {
         "lat": [
          38,
          39.8561
         ],
         "line": {
          "color": "black",
          "width": 1
         },
         "lon": [
          -97,
          -104.6737
         ],
         "mode": "lines",
         "showlegend": false,
         "type": "scattermapbox"
        },
        {
         "lat": [
          41.566,
          33.6367
         ],
         "line": {
          "color": "black",
          "width": 1
         },
         "lon": [
          -91.266,
          -84.4281
         ],
         "mode": "lines",
         "showlegend": false,
         "type": "scattermapbox"
        },
        {
         "lat": [
          37.751,
          32.8969
         ],
         "line": {
          "color": "black",
          "width": 1
         },
         "lon": [
          -97.822,
          -97.0381
         ],
         "mode": "lines",
         "showlegend": false,
         "type": "scattermapbox"
        },
        {
         "lat": [
          44.937,
          41.9786
         ],
         "line": {
          "color": "black",
          "width": 1
         },
         "lon": [
          -93.222,
          -87.9047
         ],
         "mode": "lines",
         "showlegend": false,
         "type": "scattermapbox"
        },
        {
         "lat": [
          32.737,
          33.9425
         ],
         "line": {
          "color": "black",
          "width": 1
         },
         "lon": [
          -117.088,
          -118.4072
         ],
         "mode": "lines",
         "showlegend": false,
         "type": "scattermapbox"
        },
        {
         "lat": [
          47.102,
          47.4489
         ],
         "line": {
          "color": "black",
          "width": 1
         },
         "lon": [
          -122.327,
          -122.3094
         ],
         "mode": "lines",
         "showlegend": false,
         "type": "scattermapbox"
        },
        {
         "lat": [
          41.1266,
          41.9786
         ],
         "line": {
          "color": "black",
          "width": 1
         },
         "lon": [
          -88.8453,
          -87.9047
         ],
         "mode": "lines",
         "showlegend": false,
         "type": "scattermapbox"
        },
        {
         "lat": [
          33.829,
          33.9425
         ],
         "line": {
          "color": "black",
          "width": 1
         },
         "lon": [
          -118.117,
          -118.4072
         ],
         "mode": "lines",
         "showlegend": false,
         "type": "scattermapbox"
        },
        {
         "lat": [
          47.835,
          47.4489
         ],
         "line": {
          "color": "black",
          "width": 1
         },
         "lon": [
          -122.328,
          -122.3094
         ],
         "mode": "lines",
         "showlegend": false,
         "type": "scattermapbox"
        },
        {
         "lat": [
          38.819,
          38.9444
         ],
         "line": {
          "color": "black",
          "width": 1
         },
         "lon": [
          -77.062,
          -77.4558
         ],
         "mode": "lines",
         "showlegend": false,
         "type": "scattermapbox"
        },
        {
         "lat": [
          42.987,
          41.9786
         ],
         "line": {
          "color": "black",
          "width": 1
         },
         "lon": [
          -82.467,
          -87.9047
         ],
         "mode": "lines",
         "showlegend": false,
         "type": "scattermapbox"
        },
        {
         "lat": [
          40.842,
          40.7667
         ],
         "line": {
          "color": "black",
          "width": 1
         },
         "lon": [
          -73.856,
          -73.8667
         ],
         "mode": "lines",
         "showlegend": false,
         "type": "scattermapbox"
        },
        {
         "lat": [
          38.024,
          32.8969
         ],
         "line": {
          "color": "black",
          "width": 1
         },
         "lon": [
          -122.54,
          -97.0381
         ],
         "mode": "lines",
         "showlegend": false,
         "type": "scattermapbox"
        },
        {
         "lat": [
          40.531,
          40.7667
         ],
         "line": {
          "color": "black",
          "width": 1
         },
         "lon": [
          -76.623,
          -73.8667
         ],
         "mode": "lines",
         "showlegend": false,
         "type": "scattermapbox"
        },
        {
         "lat": [
          38,
          32.8969
         ],
         "line": {
          "color": "black",
          "width": 1
         },
         "lon": [
          -97,
          -97.0381
         ],
         "mode": "lines",
         "showlegend": false,
         "type": "scattermapbox"
        },
        {
         "lat": [
          37.751,
          38.9444
         ],
         "line": {
          "color": "black",
          "width": 1
         },
         "lon": [
          -97.822,
          -77.4558
         ],
         "mode": "lines",
         "showlegend": false,
         "type": "scattermapbox"
        },
        {
         "lat": [
          34.573,
          32.8969
         ],
         "line": {
          "color": "black",
          "width": 1
         },
         "lon": [
          -101.735,
          -97.0381
         ],
         "mode": "lines",
         "showlegend": false,
         "type": "scattermapbox"
        },
        {
         "lat": [
          41.156,
          40.7667
         ],
         "line": {
          "color": "black",
          "width": 1
         },
         "lon": [
          -73.99,
          -73.8667
         ],
         "mode": "lines",
         "showlegend": false,
         "type": "scattermapbox"
        },
        {
         "lat": [
          27.18,
          32.8969
         ],
         "line": {
          "color": "black",
          "width": 1
         },
         "lon": [
          -80.243,
          -97.0381
         ],
         "mode": "lines",
         "showlegend": false,
         "type": "scattermapbox"
        },
        {
         "lat": [
          25.937,
          25.7833
         ],
         "line": {
          "color": "black",
          "width": 1
         },
         "lon": [
          -80.317,
          -80.2667
         ],
         "mode": "lines",
         "showlegend": false,
         "type": "scattermapbox"
        },
        {
         "lat": [
          40.676,
          40.7667
         ],
         "line": {
          "color": "black",
          "width": 1
         },
         "lon": [
          -74.573,
          -73.8667
         ],
         "mode": "lines",
         "showlegend": false,
         "type": "scattermapbox"
        },
        {
         "lat": [
          40.051,
          32.8969
         ],
         "line": {
          "color": "black",
          "width": 1
         },
         "lon": [
          -105.204,
          -97.0381
         ],
         "mode": "lines",
         "showlegend": false,
         "type": "scattermapbox"
        },
        {
         "lat": [
          40.61,
          40.7667
         ],
         "line": {
          "color": "black",
          "width": 1
         },
         "lon": [
          -73.911,
          -73.8667
         ],
         "mode": "lines",
         "showlegend": false,
         "type": "scattermapbox"
        },
        {
         "lat": [
          37.971,
          33.9425
         ],
         "line": {
          "color": "black",
          "width": 1
         },
         "lon": [
          -121.96,
          -118.4072
         ],
         "mode": "lines",
         "showlegend": false,
         "type": "scattermapbox"
        },
        {
         "lat": [
          29.424,
          32.8969
         ],
         "line": {
          "color": "black",
          "width": 1
         },
         "lon": [
          -98.494,
          -97.0381
         ],
         "mode": "lines",
         "showlegend": false,
         "type": "scattermapbox"
        },
        {
         "lat": [
          25.858,
          25.7833
         ],
         "line": {
          "color": "black",
          "width": 1
         },
         "lon": [
          -80.131,
          -80.2667
         ],
         "mode": "lines",
         "showlegend": false,
         "type": "scattermapbox"
        },
        {
         "lat": [
          42.249,
          40.7667
         ],
         "line": {
          "color": "black",
          "width": 1
         },
         "lon": [
          -71.766,
          -73.8667
         ],
         "mode": "lines",
         "showlegend": false,
         "type": "scattermapbox"
        },
        {
         "lat": [
          41.745,
          32.8969
         ],
         "line": {
          "color": "black",
          "width": 1
         },
         "lon": [
          -87.77,
          -97.0381
         ],
         "mode": "lines",
         "showlegend": false,
         "type": "scattermapbox"
        },
        {
         "lat": [
          41.971,
          41.9786
         ],
         "line": {
          "color": "black",
          "width": 1
         },
         "lon": [
          -88.018,
          -87.9047
         ],
         "mode": "lines",
         "showlegend": false,
         "type": "scattermapbox"
        },
        {
         "lat": [
          40.992,
          40.7667
         ],
         "line": {
          "color": "black",
          "width": 1
         },
         "lon": [
          -72.199,
          -73.8667
         ],
         "mode": "lines",
         "showlegend": false,
         "type": "scattermapbox"
        },
        {
         "lat": [
          29.939,
          33.6367
         ],
         "line": {
          "color": "black",
          "width": 1
         },
         "lon": [
          -90.074,
          -84.4281
         ],
         "mode": "lines",
         "showlegend": false,
         "type": "scattermapbox"
        },
        {
         "lat": [
          47.542,
          47.4489
         ],
         "line": {
          "color": "black",
          "width": 1
         },
         "lon": [
          -122.312,
          -122.3094
         ],
         "mode": "lines",
         "showlegend": false,
         "type": "scattermapbox"
        },
        {
         "lat": [
          47.038,
          47.4489
         ],
         "line": {
          "color": "black",
          "width": 1
         },
         "lon": [
          -122.901,
          -122.3094
         ],
         "mode": "lines",
         "showlegend": false,
         "type": "scattermapbox"
        },
        {
         "lat": [
          42.587,
          42.8356,
          32.959,
          45.707,
          38,
          41.389,
          37.679,
          43.051,
          28.006,
          34.138,
          37.834,
          37.748,
          33.994,
          25.7806,
          33.0812,
          32.6615,
          33.762,
          42.457,
          44.571,
          39.163,
          40.736,
          42.248,
          37.812,
          33.788,
          28.6778,
          35.854,
          39.917,
          40.0925,
          34.0119,
          30.288,
          26.114,
          34.165,
          42.38,
          44.77,
          29.657,
          35.1862,
          41.498,
          38,
          38.909,
          39.974,
          39.969,
          41.832,
          32.815,
          47.56,
          41.309,
          26.272,
          39.494,
          30.141,
          32.957,
          40.101,
          40.029,
          32.231,
          33.035,
          33.7271,
          37.3744,
          39.597,
          41.832,
          29.94,
          33.432,
          38,
          37.769,
          39.759,
          33.938,
          35.15,
          25.798,
          30.606,
          40.085,
          34.007,
          37.748,
          40.61,
          42.611,
          37.751,
          25.9489,
          37.748,
          33.827,
          30.4,
          37.1702,
          38.537,
          35.185,
          41.922,
          39.687,
          40.648,
          33.036,
          43.0056,
          44.06,
          40.153,
          25.894,
          45.63,
          34.97,
          34.154,
          38,
          33.789,
          36.742,
          41.501,
          47.572,
          36.548,
          33.466,
          38.938,
          37.653,
          43.066,
          41.892,
          36.748,
          31.989,
          37.682,
          38.879,
          36.753,
          34.066,
          42.0182,
          38.393,
          41.3969,
          37.474,
          47.584,
          35.136,
          42.75,
          45.167,
          41.9,
          37.748,
          42.056,
          39.74,
          39.978,
          30.213,
          47.308,
          39.132,
          43.048,
          37.735,
          47.634,
          32.731,
          61.215,
          33.249,
          28.473,
          30.366,
          25.7806,
          42.056,
          32.978,
          31.759,
          45.195,
          41.145,
          42.036,
          33.624,
          34.154,
          45.545,
          29.9736,
          32.8148,
          40.694,
          25.603,
          39.848,
          37.751,
          28.752,
          40.108,
          42.068,
          30.1843,
          34.049,
          40.279,
          42.262,
          37.342,
          43.03,
          33.071,
          33.968,
          42.127,
          30.725,
          37.776,
          35.205,
          38,
          47.606,
          26.1546,
          40.6789,
          33.6,
          38,
          41.566,
          37.751,
          44.937,
          32.737,
          47.102,
          41.1266,
          33.829,
          47.835,
          38.819,
          42.987,
          40.842,
          38.024,
          40.531,
          38,
          37.751,
          34.573,
          41.156,
          27.18,
          25.937,
          40.676,
          40.051,
          40.61,
          37.971,
          29.424,
          25.858,
          42.249,
          41.745,
          41.971,
          40.992,
          29.939,
          47.542,
          47.038
         ],
         "lon": [
          -83.236,
          -78.7484,
          -96.981,
          -110.539,
          -97,
          -81.537,
          -122.476,
          -73.401,
          -82.59,
          -118.392,
          -122.265,
          -122.416,
          -118.464,
          -80.1826,
          -96.8133,
          -97.1694,
          -84.398,
          -71.218,
          -70.512,
          -76.632,
          -74.072,
          -88.608,
          -122.242,
          -117.974,
          -81.3278,
          -80.108,
          -76.726,
          -74.9853,
          -118.4682,
          -81.426,
          -80.384,
          -83.235,
          -71.1329,
          -69.428,
          -98.511,
          -80.7479,
          -88.037,
          -97,
          -77.018,
          -86.176,
          -75.176,
          -87.79,
          -96.87,
          -122.228,
          -72.924,
          -80.258,
          -76.911,
          -95.469,
          -117.198,
          -75.641,
          -83.081,
          -95.296,
          -96.813,
          -84.5785,
          -121.7582,
          -84.156,
          -87.79,
          -82.701,
          -112.015,
          -97,
          -122.445,
          -104.969,
          -117.231,
          -101.873,
          -80.321,
          -87.858,
          -82.975,
          -118.032,
          -122.416,
          -73.911,
          -71.231,
          -97.822,
          -80.2422,
          -84.295,
          -84.324,
          -97.7528,
          -93.3297,
          -121.663,
          -90.094,
          -87.652,
          -84.164,
          -73.934,
          -96.671,
          -73.8628,
          -88.528,
          -87.646,
          -80.182,
          -122.52,
          -116.993,
          -117.764,
          -97,
          -117.869,
          -93.029,
          -75.603,
          -122.333,
          -82.562,
          -111.925,
          -77.093,
          -122.423,
          -88.754,
          -87.936,
          -119.772,
          -83.3217,
          -121.768,
          -77.377,
          -78.197,
          -118.436,
          -88.2173,
          -122.751,
          -87.3274,
          -120.857,
          -122.299,
          -89.773,
          -73.595,
          -93.248,
          -87.637,
          -122.416,
          -71.12,
          -74.971,
          -75.122,
          -95.539,
          -122.264,
          -77.288,
          -76.296,
          -122.373,
          -122.342,
          -117.039,
          -149.258,
          -111.634,
          -97.707,
          -97.644,
          -80.1826,
          -87.701,
          -117.023,
          -106.487,
          -123.247,
          -73.343,
          -88.38,
          -112.051,
          -86.747,
          -121.154,
          -90.0857,
          -96.8705,
          -73.991,
          -80.335,
          -86.195,
          -97.822,
          -81.247,
          -75.22,
          -88.019,
          -92.0497,
          -118.442,
          -74.368,
          -72.503,
          -121.905,
          -76.004,
          -116.837,
          -117.3194,
          -86.307,
          -94.823,
          -122.413,
          -88.15,
          -97,
          -122.332,
          -98.2045,
          -73.4474,
          -117.672,
          -97,
          -91.266,
          -97.822,
          -93.222,
          -117.088,
          -122.327,
          -88.8453,
          -118.117,
          -122.328,
          -77.062,
          -82.467,
          -73.856,
          -122.54,
          -76.623,
          -97,
          -97.822,
          -101.735,
          -73.99,
          -80.243,
          -80.317,
          -74.573,
          -105.204,
          -73.911,
          -121.96,
          -98.494,
          -80.131,
          -71.766,
          -87.77,
          -88.018,
          -72.199,
          -90.074,
          -122.312,
          -122.901
         ],
         "marker": {
          "color": "blue",
          "size": 6
         },
         "mode": "markers",
         "name": "Clients",
         "type": "scattermapbox"
        },
        {
         "lat": [
          43.6767,
          40.7667,
          32.8969,
          51.1315,
          33.9425,
          40.7667,
          37.3833,
          40.7667,
          25.7833,
          33.9425,
          37.3833,
          37.3833,
          33.9425,
          25.7833,
          32.8969,
          32.8969,
          32.8969,
          40.7667,
          40.7667,
          40.7667,
          41.9786,
          41.9786,
          33.9425,
          37.3833,
          25.7833,
          38.9444,
          40.7667,
          40.7667,
          47.4489,
          33.6367,
          25.7833,
          33.6367,
          40.7667,
          45.4576,
          32.8969,
          33.6367,
          41.9786,
          40.7667,
          38.9444,
          41.9786,
          40.7667,
          41.9786,
          32.8969,
          32.8969,
          32.8969,
          25.7833,
          40.7667,
          32.8969,
          33.9425,
          40.7667,
          41.9786,
          32.8969,
          32.8969,
          33.6367,
          37.3833,
          41.9786,
          41.9786,
          33.6367,
          33.9425,
          40.7667,
          37.3833,
          39.8561,
          33.9425,
          32.8969,
          25.7833,
          33.6367,
          41.9786,
          37.3833,
          37.3833,
          40.7667,
          40.7667,
          32.8969,
          25.7833,
          25.7833,
          33.6367,
          32.8969,
          32.8969,
          37.3833,
          33.6367,
          41.9786,
          41.9786,
          40.7667,
          32.8969,
          40.7667,
          41.9786,
          41.9786,
          25.7833,
          47.4489,
          37.3833,
          45.4576,
          33.9425,
          33.9425,
          41.9786,
          40.7667,
          47.4489,
          41.9786,
          33.9425,
          32.8969,
          37.3833,
          41.9786,
          41.9786,
          33.9425,
          33.6367,
          37.3833,
          38.9444,
          38.9444,
          45.4576,
          41.9786,
          37.3833,
          33.6367,
          47.4489,
          47.4489,
          33.6367,
          40.7667,
          41.9786,
          41.9786,
          37.3833,
          40.7667,
          40.7667,
          40.7667,
          32.8969,
          47.4489,
          38.9444,
          43.6767,
          40.7667,
          47.4489,
          33.9425,
          47.4489,
          33.9425,
          32.8969,
          32.8969,
          33.6367,
          41.9786,
          33.9425,
          32.8969,
          47.4489,
          32.8969,
          41.9786,
          33.9425,
          33.6367,
          47.4489,
          33.6367,
          32.8969,
          40.7667,
          25.7833,
          41.9786,
          33.9425,
          25.7833,
          32.8969,
          41.9786,
          32.8969,
          33.9425,
          40.7667,
          40.7667,
          37.3833,
          43.6767,
          33.9425,
          33.9425,
          41.9786,
          32.8969,
          37.3833,
          32.8969,
          32.8969,
          47.4489,
          32.8969,
          40.7667,
          33.9425,
          39.8561,
          33.6367,
          32.8969,
          41.9786,
          33.9425,
          47.4489,
          41.9786,
          33.9425,
          47.4489,
          38.9444,
          41.9786,
          40.7667,
          32.8969,
          40.7667,
          32.8969,
          38.9444,
          32.8969,
          40.7667,
          32.8969,
          25.7833,
          40.7667,
          32.8969,
          40.7667,
          33.9425,
          32.8969,
          25.7833,
          40.7667,
          32.8969,
          41.9786,
          40.7667,
          33.6367,
          47.4489,
          47.4489
         ],
         "lon": [
          -79.6306,
          -73.8667,
          -97.0381,
          -114.0106,
          -118.4072,
          -73.8667,
          -122.0667,
          -73.8667,
          -80.2667,
          -118.4072,
          -122.0667,
          -122.0667,
          -118.4072,
          -80.2667,
          -97.0381,
          -97.0381,
          -97.0381,
          -73.8667,
          -73.8667,
          -73.8667,
          -87.9047,
          -87.9047,
          -118.4072,
          -122.0667,
          -80.2667,
          -77.4558,
          -73.8667,
          -73.8667,
          -122.3094,
          -84.4281,
          -80.2667,
          -84.4281,
          -73.8667,
          -73.7497,
          -97.0381,
          -84.4281,
          -87.9047,
          -73.8667,
          -77.4558,
          -87.9047,
          -73.8667,
          -87.9047,
          -97.0381,
          -97.0381,
          -97.0381,
          -80.2667,
          -73.8667,
          -97.0381,
          -118.4072,
          -73.8667,
          -87.9047,
          -97.0381,
          -97.0381,
          -84.4281,
          -122.0667,
          -87.9047,
          -87.9047,
          -84.4281,
          -118.4072,
          -73.8667,
          -122.0667,
          -104.6737,
          -118.4072,
          -97.0381,
          -80.2667,
          -84.4281,
          -87.9047,
          -122.0667,
          -122.0667,
          -73.8667,
          -73.8667,
          -97.0381,
          -80.2667,
          -80.2667,
          -84.4281,
          -97.0381,
          -97.0381,
          -122.0667,
          -84.4281,
          -87.9047,
          -87.9047,
          -73.8667,
          -97.0381,
          -73.8667,
          -87.9047,
          -87.9047,
          -80.2667,
          -122.3094,
          -122.0667,
          -73.7497,
          -118.4072,
          -118.4072,
          -87.9047,
          -73.8667,
          -122.3094,
          -87.9047,
          -118.4072,
          -97.0381,
          -122.0667,
          -87.9047,
          -87.9047,
          -118.4072,
          -84.4281,
          -122.0667,
          -77.4558,
          -77.4558,
          -73.7497,
          -87.9047,
          -122.0667,
          -84.4281,
          -122.3094,
          -122.3094,
          -84.4281,
          -73.8667,
          -87.9047,
          -87.9047,
          -122.0667,
          -73.8667,
          -73.8667,
          -73.8667,
          -97.0381,
          -122.3094,
          -77.4558,
          -79.6306,
          -73.8667,
          -122.3094,
          -118.4072,
          -122.3094,
          -118.4072,
          -97.0381,
          -97.0381,
          -84.4281,
          -87.9047,
          -118.4072,
          -97.0381,
          -122.3094,
          -97.0381,
          -87.9047,
          -118.4072,
          -84.4281,
          -122.3094,
          -84.4281,
          -97.0381,
          -73.8667,
          -80.2667,
          -87.9047,
          -118.4072,
          -80.2667,
          -97.0381,
          -87.9047,
          -97.0381,
          -118.4072,
          -73.8667,
          -73.8667,
          -122.0667,
          -79.6306,
          -118.4072,
          -118.4072,
          -87.9047,
          -97.0381,
          -122.0667,
          -97.0381,
          -97.0381,
          -122.3094,
          -97.0381,
          -73.8667,
          -118.4072,
          -104.6737,
          -84.4281,
          -97.0381,
          -87.9047,
          -118.4072,
          -122.3094,
          -87.9047,
          -118.4072,
          -122.3094,
          -77.4558,
          -87.9047,
          -73.8667,
          -97.0381,
          -73.8667,
          -97.0381,
          -77.4558,
          -97.0381,
          -73.8667,
          -97.0381,
          -80.2667,
          -73.8667,
          -97.0381,
          -73.8667,
          -118.4072,
          -97.0381,
          -80.2667,
          -73.8667,
          -97.0381,
          -87.9047,
          -73.8667,
          -84.4281,
          -122.3094,
          -122.3094
         ],
         "marker": {
          "color": "red",
          "size": 6
         },
         "mode": "markers",
         "name": "Servers",
         "type": "scattermapbox"
        }
       ],
       "layout": {
        "autosize": true,
        "legend": {
         "x": 0.01,
         "xanchor": "left",
         "y": 0.99,
         "yanchor": "top"
        },
        "mapbox": {
         "bearing": 0,
         "center": {
          "lat": 30.243913520510986,
          "lon": -76.06524498171291
         },
         "pitch": 0,
         "style": "open-street-map",
         "zoom": 5.414690715217805
        },
        "margin": {
         "b": 0,
         "l": 0,
         "r": 0,
         "t": 0
        },
        "template": {
         "data": {
          "bar": [
           {
            "error_x": {
             "color": "#2a3f5f"
            },
            "error_y": {
             "color": "#2a3f5f"
            },
            "marker": {
             "line": {
              "color": "#E5ECF6",
              "width": 0.5
             },
             "pattern": {
              "fillmode": "overlay",
              "size": 10,
              "solidity": 0.2
             }
            },
            "type": "bar"
           }
          ],
          "barpolar": [
           {
            "marker": {
             "line": {
              "color": "#E5ECF6",
              "width": 0.5
             },
             "pattern": {
              "fillmode": "overlay",
              "size": 10,
              "solidity": 0.2
             }
            },
            "type": "barpolar"
           }
          ],
          "carpet": [
           {
            "aaxis": {
             "endlinecolor": "#2a3f5f",
             "gridcolor": "white",
             "linecolor": "white",
             "minorgridcolor": "white",
             "startlinecolor": "#2a3f5f"
            },
            "baxis": {
             "endlinecolor": "#2a3f5f",
             "gridcolor": "white",
             "linecolor": "white",
             "minorgridcolor": "white",
             "startlinecolor": "#2a3f5f"
            },
            "type": "carpet"
           }
          ],
          "choropleth": [
           {
            "colorbar": {
             "outlinewidth": 0,
             "ticks": ""
            },
            "type": "choropleth"
           }
          ],
          "contour": [
           {
            "colorbar": {
             "outlinewidth": 0,
             "ticks": ""
            },
            "colorscale": [
             [
              0,
              "#0d0887"
             ],
             [
              0.1111111111111111,
              "#46039f"
             ],
             [
              0.2222222222222222,
              "#7201a8"
             ],
             [
              0.3333333333333333,
              "#9c179e"
             ],
             [
              0.4444444444444444,
              "#bd3786"
             ],
             [
              0.5555555555555556,
              "#d8576b"
             ],
             [
              0.6666666666666666,
              "#ed7953"
             ],
             [
              0.7777777777777778,
              "#fb9f3a"
             ],
             [
              0.8888888888888888,
              "#fdca26"
             ],
             [
              1,
              "#f0f921"
             ]
            ],
            "type": "contour"
           }
          ],
          "contourcarpet": [
           {
            "colorbar": {
             "outlinewidth": 0,
             "ticks": ""
            },
            "type": "contourcarpet"
           }
          ],
          "heatmap": [
           {
            "colorbar": {
             "outlinewidth": 0,
             "ticks": ""
            },
            "colorscale": [
             [
              0,
              "#0d0887"
             ],
             [
              0.1111111111111111,
              "#46039f"
             ],
             [
              0.2222222222222222,
              "#7201a8"
             ],
             [
              0.3333333333333333,
              "#9c179e"
             ],
             [
              0.4444444444444444,
              "#bd3786"
             ],
             [
              0.5555555555555556,
              "#d8576b"
             ],
             [
              0.6666666666666666,
              "#ed7953"
             ],
             [
              0.7777777777777778,
              "#fb9f3a"
             ],
             [
              0.8888888888888888,
              "#fdca26"
             ],
             [
              1,
              "#f0f921"
             ]
            ],
            "type": "heatmap"
           }
          ],
          "heatmapgl": [
           {
            "colorbar": {
             "outlinewidth": 0,
             "ticks": ""
            },
            "colorscale": [
             [
              0,
              "#0d0887"
             ],
             [
              0.1111111111111111,
              "#46039f"
             ],
             [
              0.2222222222222222,
              "#7201a8"
             ],
             [
              0.3333333333333333,
              "#9c179e"
             ],
             [
              0.4444444444444444,
              "#bd3786"
             ],
             [
              0.5555555555555556,
              "#d8576b"
             ],
             [
              0.6666666666666666,
              "#ed7953"
             ],
             [
              0.7777777777777778,
              "#fb9f3a"
             ],
             [
              0.8888888888888888,
              "#fdca26"
             ],
             [
              1,
              "#f0f921"
             ]
            ],
            "type": "heatmapgl"
           }
          ],
          "histogram": [
           {
            "marker": {
             "pattern": {
              "fillmode": "overlay",
              "size": 10,
              "solidity": 0.2
             }
            },
            "type": "histogram"
           }
          ],
          "histogram2d": [
           {
            "colorbar": {
             "outlinewidth": 0,
             "ticks": ""
            },
            "colorscale": [
             [
              0,
              "#0d0887"
             ],
             [
              0.1111111111111111,
              "#46039f"
             ],
             [
              0.2222222222222222,
              "#7201a8"
             ],
             [
              0.3333333333333333,
              "#9c179e"
             ],
             [
              0.4444444444444444,
              "#bd3786"
             ],
             [
              0.5555555555555556,
              "#d8576b"
             ],
             [
              0.6666666666666666,
              "#ed7953"
             ],
             [
              0.7777777777777778,
              "#fb9f3a"
             ],
             [
              0.8888888888888888,
              "#fdca26"
             ],
             [
              1,
              "#f0f921"
             ]
            ],
            "type": "histogram2d"
           }
          ],
          "histogram2dcontour": [
           {
            "colorbar": {
             "outlinewidth": 0,
             "ticks": ""
            },
            "colorscale": [
             [
              0,
              "#0d0887"
             ],
             [
              0.1111111111111111,
              "#46039f"
             ],
             [
              0.2222222222222222,
              "#7201a8"
             ],
             [
              0.3333333333333333,
              "#9c179e"
             ],
             [
              0.4444444444444444,
              "#bd3786"
             ],
             [
              0.5555555555555556,
              "#d8576b"
             ],
             [
              0.6666666666666666,
              "#ed7953"
             ],
             [
              0.7777777777777778,
              "#fb9f3a"
             ],
             [
              0.8888888888888888,
              "#fdca26"
             ],
             [
              1,
              "#f0f921"
             ]
            ],
            "type": "histogram2dcontour"
           }
          ],
          "mesh3d": [
           {
            "colorbar": {
             "outlinewidth": 0,
             "ticks": ""
            },
            "type": "mesh3d"
           }
          ],
          "parcoords": [
           {
            "line": {
             "colorbar": {
              "outlinewidth": 0,
              "ticks": ""
             }
            },
            "type": "parcoords"
           }
          ],
          "pie": [
           {
            "automargin": true,
            "type": "pie"
           }
          ],
          "scatter": [
           {
            "fillpattern": {
             "fillmode": "overlay",
             "size": 10,
             "solidity": 0.2
            },
            "type": "scatter"
           }
          ],
          "scatter3d": [
           {
            "line": {
             "colorbar": {
              "outlinewidth": 0,
              "ticks": ""
             }
            },
            "marker": {
             "colorbar": {
              "outlinewidth": 0,
              "ticks": ""
             }
            },
            "type": "scatter3d"
           }
          ],
          "scattercarpet": [
           {
            "marker": {
             "colorbar": {
              "outlinewidth": 0,
              "ticks": ""
             }
            },
            "type": "scattercarpet"
           }
          ],
          "scattergeo": [
           {
            "marker": {
             "colorbar": {
              "outlinewidth": 0,
              "ticks": ""
             }
            },
            "type": "scattergeo"
           }
          ],
          "scattergl": [
           {
            "marker": {
             "colorbar": {
              "outlinewidth": 0,
              "ticks": ""
             }
            },
            "type": "scattergl"
           }
          ],
          "scattermapbox": [
           {
            "marker": {
             "colorbar": {
              "outlinewidth": 0,
              "ticks": ""
             }
            },
            "type": "scattermapbox"
           }
          ],
          "scatterpolar": [
           {
            "marker": {
             "colorbar": {
              "outlinewidth": 0,
              "ticks": ""
             }
            },
            "type": "scatterpolar"
           }
          ],
          "scatterpolargl": [
           {
            "marker": {
             "colorbar": {
              "outlinewidth": 0,
              "ticks": ""
             }
            },
            "type": "scatterpolargl"
           }
          ],
          "scatterternary": [
           {
            "marker": {
             "colorbar": {
              "outlinewidth": 0,
              "ticks": ""
             }
            },
            "type": "scatterternary"
           }
          ],
          "surface": [
           {
            "colorbar": {
             "outlinewidth": 0,
             "ticks": ""
            },
            "colorscale": [
             [
              0,
              "#0d0887"
             ],
             [
              0.1111111111111111,
              "#46039f"
             ],
             [
              0.2222222222222222,
              "#7201a8"
             ],
             [
              0.3333333333333333,
              "#9c179e"
             ],
             [
              0.4444444444444444,
              "#bd3786"
             ],
             [
              0.5555555555555556,
              "#d8576b"
             ],
             [
              0.6666666666666666,
              "#ed7953"
             ],
             [
              0.7777777777777778,
              "#fb9f3a"
             ],
             [
              0.8888888888888888,
              "#fdca26"
             ],
             [
              1,
              "#f0f921"
             ]
            ],
            "type": "surface"
           }
          ],
          "table": [
           {
            "cells": {
             "fill": {
              "color": "#EBF0F8"
             },
             "line": {
              "color": "white"
             }
            },
            "header": {
             "fill": {
              "color": "#C8D4E3"
             },
             "line": {
              "color": "white"
             }
            },
            "type": "table"
           }
          ]
         },
         "layout": {
          "annotationdefaults": {
           "arrowcolor": "#2a3f5f",
           "arrowhead": 0,
           "arrowwidth": 1
          },
          "autotypenumbers": "strict",
          "coloraxis": {
           "colorbar": {
            "outlinewidth": 0,
            "ticks": ""
           }
          },
          "colorscale": {
           "diverging": [
            [
             0,
             "#8e0152"
            ],
            [
             0.1,
             "#c51b7d"
            ],
            [
             0.2,
             "#de77ae"
            ],
            [
             0.3,
             "#f1b6da"
            ],
            [
             0.4,
             "#fde0ef"
            ],
            [
             0.5,
             "#f7f7f7"
            ],
            [
             0.6,
             "#e6f5d0"
            ],
            [
             0.7,
             "#b8e186"
            ],
            [
             0.8,
             "#7fbc41"
            ],
            [
             0.9,
             "#4d9221"
            ],
            [
             1,
             "#276419"
            ]
           ],
           "sequential": [
            [
             0,
             "#0d0887"
            ],
            [
             0.1111111111111111,
             "#46039f"
            ],
            [
             0.2222222222222222,
             "#7201a8"
            ],
            [
             0.3333333333333333,
             "#9c179e"
            ],
            [
             0.4444444444444444,
             "#bd3786"
            ],
            [
             0.5555555555555556,
             "#d8576b"
            ],
            [
             0.6666666666666666,
             "#ed7953"
            ],
            [
             0.7777777777777778,
             "#fb9f3a"
            ],
            [
             0.8888888888888888,
             "#fdca26"
            ],
            [
             1,
             "#f0f921"
            ]
           ],
           "sequentialminus": [
            [
             0,
             "#0d0887"
            ],
            [
             0.1111111111111111,
             "#46039f"
            ],
            [
             0.2222222222222222,
             "#7201a8"
            ],
            [
             0.3333333333333333,
             "#9c179e"
            ],
            [
             0.4444444444444444,
             "#bd3786"
            ],
            [
             0.5555555555555556,
             "#d8576b"
            ],
            [
             0.6666666666666666,
             "#ed7953"
            ],
            [
             0.7777777777777778,
             "#fb9f3a"
            ],
            [
             0.8888888888888888,
             "#fdca26"
            ],
            [
             1,
             "#f0f921"
            ]
           ]
          },
          "colorway": [
           "#636efa",
           "#EF553B",
           "#00cc96",
           "#ab63fa",
           "#FFA15A",
           "#19d3f3",
           "#FF6692",
           "#B6E880",
           "#FF97FF",
           "#FECB52"
          ],
          "font": {
           "color": "#2a3f5f"
          },
          "geo": {
           "bgcolor": "white",
           "lakecolor": "white",
           "landcolor": "#E5ECF6",
           "showlakes": true,
           "showland": true,
           "subunitcolor": "white"
          },
          "hoverlabel": {
           "align": "left"
          },
          "hovermode": "closest",
          "mapbox": {
           "style": "light"
          },
          "paper_bgcolor": "white",
          "plot_bgcolor": "#E5ECF6",
          "polar": {
           "angularaxis": {
            "gridcolor": "white",
            "linecolor": "white",
            "ticks": ""
           },
           "bgcolor": "#E5ECF6",
           "radialaxis": {
            "gridcolor": "white",
            "linecolor": "white",
            "ticks": ""
           }
          },
          "scene": {
           "xaxis": {
            "backgroundcolor": "#E5ECF6",
            "gridcolor": "white",
            "gridwidth": 2,
            "linecolor": "white",
            "showbackground": true,
            "ticks": "",
            "zerolinecolor": "white"
           },
           "yaxis": {
            "backgroundcolor": "#E5ECF6",
            "gridcolor": "white",
            "gridwidth": 2,
            "linecolor": "white",
            "showbackground": true,
            "ticks": "",
            "zerolinecolor": "white"
           },
           "zaxis": {
            "backgroundcolor": "#E5ECF6",
            "gridcolor": "white",
            "gridwidth": 2,
            "linecolor": "white",
            "showbackground": true,
            "ticks": "",
            "zerolinecolor": "white"
           }
          },
          "shapedefaults": {
           "line": {
            "color": "#2a3f5f"
           }
          },
          "ternary": {
           "aaxis": {
            "gridcolor": "white",
            "linecolor": "white",
            "ticks": ""
           },
           "baxis": {
            "gridcolor": "white",
            "linecolor": "white",
            "ticks": ""
           },
           "bgcolor": "#E5ECF6",
           "caxis": {
            "gridcolor": "white",
            "linecolor": "white",
            "ticks": ""
           }
          },
          "title": {
           "x": 0.05
          },
          "xaxis": {
           "automargin": true,
           "gridcolor": "white",
           "linecolor": "white",
           "ticks": "",
           "title": {
            "standoff": 15
           },
           "zerolinecolor": "white",
           "zerolinewidth": 2
          },
          "yaxis": {
           "automargin": true,
           "gridcolor": "white",
           "linecolor": "white",
           "ticks": "",
           "title": {
            "standoff": 15
           },
           "zerolinecolor": "white",
           "zerolinewidth": 2
          }
         }
        }
       }
      },
      "image/png": "[encoded data removed]",
      "text/html": [
       "<div>                            <div id=\"dcb09aa8-d97c-4e8f-87ba-aa074a41b231\" class=\"plotly-graph-div\" style=\"height:525px; width:100%;\"></div>            <script type=\"text/javascript\">                require([\"plotly\"], function(Plotly) {                    window.PLOTLYENV=window.PLOTLYENV || {};                                    if (document.getElementById(\"dcb09aa8-d97c-4e8f-87ba-aa074a41b231\")) {                    Plotly.newPlot(                        \"dcb09aa8-d97c-4e8f-87ba-aa074a41b231\",                        [{\"lat\":[42.587,43.6767],\"line\":{\"color\":\"black\",\"width\":1},\"lon\":[-83.236,-79.6306],\"mode\":\"lines\",\"showlegend\":false,\"type\":\"scattermapbox\"},{\"lat\":[42.8356,40.7667],\"line\":{\"color\":\"black\",\"width\":1},\"lon\":[-78.7484,-73.8667],\"mode\":\"lines\",\"showlegend\":false,\"type\":\"scattermapbox\"},{\"lat\":[32.959,32.8969],\"line\":{\"color\":\"black\",\"width\":1},\"lon\":[-96.981,-97.0381],\"mode\":\"lines\",\"showlegend\":false,\"type\":\"scattermapbox\"},{\"lat\":[45.707,51.1315],\"line\":{\"color\":\"black\",\"width\":1},\"lon\":[-110.539,-114.0106],\"mode\":\"lines\",\"showlegend\":false,\"type\":\"scattermapbox\"},{\"lat\":[38.0,33.9425],\"line\":{\"color\":\"black\",\"width\":1},\"lon\":[-97.0,-118.4072],\"mode\":\"lines\",\"showlegend\":false,\"type\":\"scattermapbox\"},{\"lat\":[41.389,40.7667],\"line\":{\"color\":\"black\",\"width\":1},\"lon\":[-81.537,-73.8667],\"mode\":\"lines\",\"showlegend\":false,\"type\":\"scattermapbox\"},{\"lat\":[37.679,37.3833],\"line\":{\"color\":\"black\",\"width\":1},\"lon\":[-122.476,-122.0667],\"mode\":\"lines\",\"showlegend\":false,\"type\":\"scattermapbox\"},{\"lat\":[43.051,40.7667],\"line\":{\"color\":\"black\",\"width\":1},\"lon\":[-73.401,-73.8667],\"mode\":\"lines\",\"showlegend\":false,\"type\":\"scattermapbox\"},{\"lat\":[28.006,25.7833],\"line\":{\"color\":\"black\",\"width\":1},\"lon\":[-82.59,-80.2667],\"mode\":\"lines\",\"showlegend\":false,\"type\":\"scattermapbox\"},{\"lat\":[34.138,33.9425],\"line\":{\"color\":\"black\",\"width\":1},\"lon\":[-118.392,-118.4072],\"mode\":\"lines\",\"showlegend\":false,\"type\":\"scattermapbox\"},{\"lat\":[37.834,37.3833],\"line\":{\"color\":\"black\",\"width\":1},\"lon\":[-122.265,-122.0667],\"mode\":\"lines\",\"showlegend\":false,\"type\":\"scattermapbox\"},{\"lat\":[37.748,37.3833],\"line\":{\"color\":\"black\",\"width\":1},\"lon\":[-122.416,-122.0667],\"mode\":\"lines\",\"showlegend\":false,\"type\":\"scattermapbox\"},{\"lat\":[33.994,33.9425],\"line\":{\"color\":\"black\",\"width\":1},\"lon\":[-118.464,-118.4072],\"mode\":\"lines\",\"showlegend\":false,\"type\":\"scattermapbox\"},{\"lat\":[25.7806,25.7833],\"line\":{\"color\":\"black\",\"width\":1},\"lon\":[-80.1826,-80.2667],\"mode\":\"lines\",\"showlegend\":false,\"type\":\"scattermapbox\"},{\"lat\":[33.0812,32.8969],\"line\":{\"color\":\"black\",\"width\":1},\"lon\":[-96.8133,-97.0381],\"mode\":\"lines\",\"showlegend\":false,\"type\":\"scattermapbox\"},{\"lat\":[32.6615,32.8969],\"line\":{\"color\":\"black\",\"width\":1},\"lon\":[-97.1694,-97.0381],\"mode\":\"lines\",\"showlegend\":false,\"type\":\"scattermapbox\"},{\"lat\":[33.762,32.8969],\"line\":{\"color\":\"black\",\"width\":1},\"lon\":[-84.398,-97.0381],\"mode\":\"lines\",\"showlegend\":false,\"type\":\"scattermapbox\"},{\"lat\":[42.457,40.7667],\"line\":{\"color\":\"black\",\"width\":1},\"lon\":[-71.218,-73.8667],\"mode\":\"lines\",\"showlegend\":false,\"type\":\"scattermapbox\"},{\"lat\":[44.571,40.7667],\"line\":{\"color\":\"black\",\"width\":1},\"lon\":[-70.512,-73.8667],\"mode\":\"lines\",\"showlegend\":false,\"type\":\"scattermapbox\"},{\"lat\":[39.163,40.7667],\"line\":{\"color\":\"black\",\"width\":1},\"lon\":[-76.632,-73.8667],\"mode\":\"lines\",\"showlegend\":false,\"type\":\"scattermapbox\"},{\"lat\":[40.736,41.9786],\"line\":{\"color\":\"black\",\"width\":1},\"lon\":[-74.072,-87.9047],\"mode\":\"lines\",\"showlegend\":false,\"type\":\"scattermapbox\"},{\"lat\":[42.248,41.9786],\"line\":{\"color\":\"black\",\"width\":1},\"lon\":[-88.608,-87.9047],\"mode\":\"lines\",\"showlegend\":false,\"type\":\"scattermapbox\"},{\"lat\":[37.812,33.9425],\"line\":{\"color\":\"black\",\"width\":1},\"lon\":[-122.242,-118.4072],\"mode\":\"lines\",\"showlegend\":false,\"type\":\"scattermapbox\"},{\"lat\":[33.788,37.3833],\"line\":{\"color\":\"black\",\"width\":1},\"lon\":[-117.974,-122.0667],\"mode\":\"lines\",\"showlegend\":false,\"type\":\"scattermapbox\"},{\"lat\":[28.6778,25.7833],\"line\":{\"color\":\"black\",\"width\":1},\"lon\":[-81.3278,-80.2667],\"mode\":\"lines\",\"showlegend\":false,\"type\":\"scattermapbox\"},{\"lat\":[35.854,38.9444],\"line\":{\"color\":\"black\",\"width\":1},\"lon\":[-80.108,-77.4558],\"mode\":\"lines\",\"showlegend\":false,\"type\":\"scattermapbox\"},{\"lat\":[39.917,40.7667],\"line\":{\"color\":\"black\",\"width\":1},\"lon\":[-76.726,-73.8667],\"mode\":\"lines\",\"showlegend\":false,\"type\":\"scattermapbox\"},{\"lat\":[40.0925,40.7667],\"line\":{\"color\":\"black\",\"width\":1},\"lon\":[-74.9853,-73.8667],\"mode\":\"lines\",\"showlegend\":false,\"type\":\"scattermapbox\"},{\"lat\":[34.0119,47.4489],\"line\":{\"color\":\"black\",\"width\":1},\"lon\":[-118.4682,-122.3094],\"mode\":\"lines\",\"showlegend\":false,\"type\":\"scattermapbox\"},{\"lat\":[30.288,33.6367],\"line\":{\"color\":\"black\",\"width\":1},\"lon\":[-81.426,-84.4281],\"mode\":\"lines\",\"showlegend\":false,\"type\":\"scattermapbox\"},{\"lat\":[26.114,25.7833],\"line\":{\"color\":\"black\",\"width\":1},\"lon\":[-80.384,-80.2667],\"mode\":\"lines\",\"showlegend\":false,\"type\":\"scattermapbox\"},{\"lat\":[34.165,33.6367],\"line\":{\"color\":\"black\",\"width\":1},\"lon\":[-83.235,-84.4281],\"mode\":\"lines\",\"showlegend\":false,\"type\":\"scattermapbox\"},{\"lat\":[42.38,40.7667],\"line\":{\"color\":\"black\",\"width\":1},\"lon\":[-71.1329,-73.8667],\"mode\":\"lines\",\"showlegend\":false,\"type\":\"scattermapbox\"},{\"lat\":[44.77,45.4576],\"line\":{\"color\":\"black\",\"width\":1},\"lon\":[-69.428,-73.7497],\"mode\":\"lines\",\"showlegend\":false,\"type\":\"scattermapbox\"},{\"lat\":[29.657,32.8969],\"line\":{\"color\":\"black\",\"width\":1},\"lon\":[-98.511,-97.0381],\"mode\":\"lines\",\"showlegend\":false,\"type\":\"scattermapbox\"},{\"lat\":[35.1862,33.6367],\"line\":{\"color\":\"black\",\"width\":1},\"lon\":[-80.7479,-84.4281],\"mode\":\"lines\",\"showlegend\":false,\"type\":\"scattermapbox\"},{\"lat\":[41.498,41.9786],\"line\":{\"color\":\"black\",\"width\":1},\"lon\":[-88.037,-87.9047],\"mode\":\"lines\",\"showlegend\":false,\"type\":\"scattermapbox\"},{\"lat\":[38.0,40.7667],\"line\":{\"color\":\"black\",\"width\":1},\"lon\":[-97.0,-73.8667],\"mode\":\"lines\",\"showlegend\":false,\"type\":\"scattermapbox\"},{\"lat\":[38.909,38.9444],\"line\":{\"color\":\"black\",\"width\":1},\"lon\":[-77.018,-77.4558],\"mode\":\"lines\",\"showlegend\":false,\"type\":\"scattermapbox\"},{\"lat\":[39.974,41.9786],\"line\":{\"color\":\"black\",\"width\":1},\"lon\":[-86.176,-87.9047],\"mode\":\"lines\",\"showlegend\":false,\"type\":\"scattermapbox\"},{\"lat\":[39.969,40.7667],\"line\":{\"color\":\"black\",\"width\":1},\"lon\":[-75.176,-73.8667],\"mode\":\"lines\",\"showlegend\":false,\"type\":\"scattermapbox\"},{\"lat\":[41.832,41.9786],\"line\":{\"color\":\"black\",\"width\":1},\"lon\":[-87.79,-87.9047],\"mode\":\"lines\",\"showlegend\":false,\"type\":\"scattermapbox\"},{\"lat\":[32.815,32.8969],\"line\":{\"color\":\"black\",\"width\":1},\"lon\":[-96.87,-97.0381],\"mode\":\"lines\",\"showlegend\":false,\"type\":\"scattermapbox\"},{\"lat\":[47.56,32.8969],\"line\":{\"color\":\"black\",\"width\":1},\"lon\":[-122.228,-97.0381],\"mode\":\"lines\",\"showlegend\":false,\"type\":\"scattermapbox\"},{\"lat\":[41.309,32.8969],\"line\":{\"color\":\"black\",\"width\":1},\"lon\":[-72.924,-97.0381],\"mode\":\"lines\",\"showlegend\":false,\"type\":\"scattermapbox\"},{\"lat\":[26.272,25.7833],\"line\":{\"color\":\"black\",\"width\":1},\"lon\":[-80.258,-80.2667],\"mode\":\"lines\",\"showlegend\":false,\"type\":\"scattermapbox\"},{\"lat\":[39.494,40.7667],\"line\":{\"color\":\"black\",\"width\":1},\"lon\":[-76.911,-73.8667],\"mode\":\"lines\",\"showlegend\":false,\"type\":\"scattermapbox\"},{\"lat\":[30.141,32.8969],\"line\":{\"color\":\"black\",\"width\":1},\"lon\":[-95.469,-97.0381],\"mode\":\"lines\",\"showlegend\":false,\"type\":\"scattermapbox\"},{\"lat\":[32.957,33.9425],\"line\":{\"color\":\"black\",\"width\":1},\"lon\":[-117.198,-118.4072],\"mode\":\"lines\",\"showlegend\":false,\"type\":\"scattermapbox\"},{\"lat\":[40.101,40.7667],\"line\":{\"color\":\"black\",\"width\":1},\"lon\":[-75.641,-73.8667],\"mode\":\"lines\",\"showlegend\":false,\"type\":\"scattermapbox\"},{\"lat\":[40.029,41.9786],\"line\":{\"color\":\"black\",\"width\":1},\"lon\":[-83.081,-87.9047],\"mode\":\"lines\",\"showlegend\":false,\"type\":\"scattermapbox\"},{\"lat\":[32.231,32.8969],\"line\":{\"color\":\"black\",\"width\":1},\"lon\":[-95.296,-97.0381],\"mode\":\"lines\",\"showlegend\":false,\"type\":\"scattermapbox\"},{\"lat\":[33.035,32.8969],\"line\":{\"color\":\"black\",\"width\":1},\"lon\":[-96.813,-97.0381],\"mode\":\"lines\",\"showlegend\":false,\"type\":\"scattermapbox\"},{\"lat\":[33.7271,33.6367],\"line\":{\"color\":\"black\",\"width\":1},\"lon\":[-84.5785,-84.4281],\"mode\":\"lines\",\"showlegend\":false,\"type\":\"scattermapbox\"},{\"lat\":[37.3744,37.3833],\"line\":{\"color\":\"black\",\"width\":1},\"lon\":[-121.7582,-122.0667],\"mode\":\"lines\",\"showlegend\":false,\"type\":\"scattermapbox\"},{\"lat\":[39.597,41.9786],\"line\":{\"color\":\"black\",\"width\":1},\"lon\":[-84.156,-87.9047],\"mode\":\"lines\",\"showlegend\":false,\"type\":\"scattermapbox\"},{\"lat\":[41.832,41.9786],\"line\":{\"color\":\"black\",\"width\":1},\"lon\":[-87.79,-87.9047],\"mode\":\"lines\",\"showlegend\":false,\"type\":\"scattermapbox\"},{\"lat\":[29.94,33.6367],\"line\":{\"color\":\"black\",\"width\":1},\"lon\":[-82.701,-84.4281],\"mode\":\"lines\",\"showlegend\":false,\"type\":\"scattermapbox\"},{\"lat\":[33.432,33.9425],\"line\":{\"color\":\"black\",\"width\":1},\"lon\":[-112.015,-118.4072],\"mode\":\"lines\",\"showlegend\":false,\"type\":\"scattermapbox\"},{\"lat\":[38.0,40.7667],\"line\":{\"color\":\"black\",\"width\":1},\"lon\":[-97.0,-73.8667],\"mode\":\"lines\",\"showlegend\":false,\"type\":\"scattermapbox\"},{\"lat\":[37.769,37.3833],\"line\":{\"color\":\"black\",\"width\":1},\"lon\":[-122.445,-122.0667],\"mode\":\"lines\",\"showlegend\":false,\"type\":\"scattermapbox\"},{\"lat\":[39.759,39.8561],\"line\":{\"color\":\"black\",\"width\":1},\"lon\":[-104.969,-104.6737],\"mode\":\"lines\",\"showlegend\":false,\"type\":\"scattermapbox\"},{\"lat\":[33.938,33.9425],\"line\":{\"color\":\"black\",\"width\":1},\"lon\":[-117.231,-118.4072],\"mode\":\"lines\",\"showlegend\":false,\"type\":\"scattermapbox\"},{\"lat\":[35.15,32.8969],\"line\":{\"color\":\"black\",\"width\":1},\"lon\":[-101.873,-97.0381],\"mode\":\"lines\",\"showlegend\":false,\"type\":\"scattermapbox\"},{\"lat\":[25.798,25.7833],\"line\":{\"color\":\"black\",\"width\":1},\"lon\":[-80.321,-80.2667],\"mode\":\"lines\",\"showlegend\":false,\"type\":\"scattermapbox\"},{\"lat\":[30.606,33.6367],\"line\":{\"color\":\"black\",\"width\":1},\"lon\":[-87.858,-84.4281],\"mode\":\"lines\",\"showlegend\":false,\"type\":\"scattermapbox\"},{\"lat\":[40.085,41.9786],\"line\":{\"color\":\"black\",\"width\":1},\"lon\":[-82.975,-87.9047],\"mode\":\"lines\",\"showlegend\":false,\"type\":\"scattermapbox\"},{\"lat\":[34.007,37.3833],\"line\":{\"color\":\"black\",\"width\":1},\"lon\":[-118.032,-122.0667],\"mode\":\"lines\",\"showlegend\":false,\"type\":\"scattermapbox\"},{\"lat\":[37.748,37.3833],\"line\":{\"color\":\"black\",\"width\":1},\"lon\":[-122.416,-122.0667],\"mode\":\"lines\",\"showlegend\":false,\"type\":\"scattermapbox\"},{\"lat\":[40.61,40.7667],\"line\":{\"color\":\"black\",\"width\":1},\"lon\":[-73.911,-73.8667],\"mode\":\"lines\",\"showlegend\":false,\"type\":\"scattermapbox\"},{\"lat\":[42.611,40.7667],\"line\":{\"color\":\"black\",\"width\":1},\"lon\":[-71.231,-73.8667],\"mode\":\"lines\",\"showlegend\":false,\"type\":\"scattermapbox\"},{\"lat\":[37.751,32.8969],\"line\":{\"color\":\"black\",\"width\":1},\"lon\":[-97.822,-97.0381],\"mode\":\"lines\",\"showlegend\":false,\"type\":\"scattermapbox\"},{\"lat\":[25.9489,25.7833],\"line\":{\"color\":\"black\",\"width\":1},\"lon\":[-80.2422,-80.2667],\"mode\":\"lines\",\"showlegend\":false,\"type\":\"scattermapbox\"},{\"lat\":[37.748,25.7833],\"line\":{\"color\":\"black\",\"width\":1},\"lon\":[-84.295,-80.2667],\"mode\":\"lines\",\"showlegend\":false,\"type\":\"scattermapbox\"},{\"lat\":[33.827,33.6367],\"line\":{\"color\":\"black\",\"width\":1},\"lon\":[-84.324,-84.4281],\"mode\":\"lines\",\"showlegend\":false,\"type\":\"scattermapbox\"},{\"lat\":[30.4,32.8969],\"line\":{\"color\":\"black\",\"width\":1},\"lon\":[-97.7528,-97.0381],\"mode\":\"lines\",\"showlegend\":false,\"type\":\"scattermapbox\"},{\"lat\":[37.1702,32.8969],\"line\":{\"color\":\"black\",\"width\":1},\"lon\":[-93.3297,-97.0381],\"mode\":\"lines\",\"showlegend\":false,\"type\":\"scattermapbox\"},{\"lat\":[38.537,37.3833],\"line\":{\"color\":\"black\",\"width\":1},\"lon\":[-121.663,-122.0667],\"mode\":\"lines\",\"showlegend\":false,\"type\":\"scattermapbox\"},{\"lat\":[35.185,33.6367],\"line\":{\"color\":\"black\",\"width\":1},\"lon\":[-90.094,-84.4281],\"mode\":\"lines\",\"showlegend\":false,\"type\":\"scattermapbox\"},{\"lat\":[41.922,41.9786],\"line\":{\"color\":\"black\",\"width\":1},\"lon\":[-87.652,-87.9047],\"mode\":\"lines\",\"showlegend\":false,\"type\":\"scattermapbox\"},{\"lat\":[39.687,41.9786],\"line\":{\"color\":\"black\",\"width\":1},\"lon\":[-84.164,-87.9047],\"mode\":\"lines\",\"showlegend\":false,\"type\":\"scattermapbox\"},{\"lat\":[40.648,40.7667],\"line\":{\"color\":\"black\",\"width\":1},\"lon\":[-73.934,-73.8667],\"mode\":\"lines\",\"showlegend\":false,\"type\":\"scattermapbox\"},{\"lat\":[33.036,32.8969],\"line\":{\"color\":\"black\",\"width\":1},\"lon\":[-96.671,-97.0381],\"mode\":\"lines\",\"showlegend\":false,\"type\":\"scattermapbox\"},{\"lat\":[43.0056,40.7667],\"line\":{\"color\":\"black\",\"width\":1},\"lon\":[-73.8628,-73.8667],\"mode\":\"lines\",\"showlegend\":false,\"type\":\"scattermapbox\"},{\"lat\":[44.06,41.9786],\"line\":{\"color\":\"black\",\"width\":1},\"lon\":[-88.528,-87.9047],\"mode\":\"lines\",\"showlegend\":false,\"type\":\"scattermapbox\"},{\"lat\":[40.153,41.9786],\"line\":{\"color\":\"black\",\"width\":1},\"lon\":[-87.646,-87.9047],\"mode\":\"lines\",\"showlegend\":false,\"type\":\"scattermapbox\"},{\"lat\":[25.894,25.7833],\"line\":{\"color\":\"black\",\"width\":1},\"lon\":[-80.182,-80.2667],\"mode\":\"lines\",\"showlegend\":false,\"type\":\"scattermapbox\"},{\"lat\":[45.63,47.4489],\"line\":{\"color\":\"black\",\"width\":1},\"lon\":[-122.52,-122.3094],\"mode\":\"lines\",\"showlegend\":false,\"type\":\"scattermapbox\"},{\"lat\":[34.97,37.3833],\"line\":{\"color\":\"black\",\"width\":1},\"lon\":[-116.993,-122.0667],\"mode\":\"lines\",\"showlegend\":false,\"type\":\"scattermapbox\"},{\"lat\":[34.154,45.4576],\"line\":{\"color\":\"black\",\"width\":1},\"lon\":[-117.764,-73.7497],\"mode\":\"lines\",\"showlegend\":false,\"type\":\"scattermapbox\"},{\"lat\":[38.0,33.9425],\"line\":{\"color\":\"black\",\"width\":1},\"lon\":[-97.0,-118.4072],\"mode\":\"lines\",\"showlegend\":false,\"type\":\"scattermapbox\"},{\"lat\":[33.789,33.9425],\"line\":{\"color\":\"black\",\"width\":1},\"lon\":[-117.869,-118.4072],\"mode\":\"lines\",\"showlegend\":false,\"type\":\"scattermapbox\"},{\"lat\":[36.742,41.9786],\"line\":{\"color\":\"black\",\"width\":1},\"lon\":[-93.029,-87.9047],\"mode\":\"lines\",\"showlegend\":false,\"type\":\"scattermapbox\"},{\"lat\":[41.501,40.7667],\"line\":{\"color\":\"black\",\"width\":1},\"lon\":[-75.603,-73.8667],\"mode\":\"lines\",\"showlegend\":false,\"type\":\"scattermapbox\"},{\"lat\":[47.572,47.4489],\"line\":{\"color\":\"black\",\"width\":1},\"lon\":[-122.333,-122.3094],\"mode\":\"lines\",\"showlegend\":false,\"type\":\"scattermapbox\"},{\"lat\":[36.548,41.9786],\"line\":{\"color\":\"black\",\"width\":1},\"lon\":[-82.562,-87.9047],\"mode\":\"lines\",\"showlegend\":false,\"type\":\"scattermapbox\"},{\"lat\":[33.466,33.9425],\"line\":{\"color\":\"black\",\"width\":1},\"lon\":[-111.925,-118.4072],\"mode\":\"lines\",\"showlegend\":false,\"type\":\"scattermapbox\"},{\"lat\":[38.938,32.8969],\"line\":{\"color\":\"black\",\"width\":1},\"lon\":[-77.093,-97.0381],\"mode\":\"lines\",\"showlegend\":false,\"type\":\"scattermapbox\"},{\"lat\":[37.653,37.3833],\"line\":{\"color\":\"black\",\"width\":1},\"lon\":[-122.423,-122.0667],\"mode\":\"lines\",\"showlegend\":false,\"type\":\"scattermapbox\"},{\"lat\":[43.066,41.9786],\"line\":{\"color\":\"black\",\"width\":1},\"lon\":[-88.754,-87.9047],\"mode\":\"lines\",\"showlegend\":false,\"type\":\"scattermapbox\"},{\"lat\":[41.892,41.9786],\"line\":{\"color\":\"black\",\"width\":1},\"lon\":[-87.936,-87.9047],\"mode\":\"lines\",\"showlegend\":false,\"type\":\"scattermapbox\"},{\"lat\":[36.748,33.9425],\"line\":{\"color\":\"black\",\"width\":1},\"lon\":[-119.772,-118.4072],\"mode\":\"lines\",\"showlegend\":false,\"type\":\"scattermapbox\"},{\"lat\":[31.989,33.6367],\"line\":{\"color\":\"black\",\"width\":1},\"lon\":[-83.3217,-84.4281],\"mode\":\"lines\",\"showlegend\":false,\"type\":\"scattermapbox\"},{\"lat\":[37.682,37.3833],\"line\":{\"color\":\"black\",\"width\":1},\"lon\":[-121.768,-122.0667],\"mode\":\"lines\",\"showlegend\":false,\"type\":\"scattermapbox\"},{\"lat\":[38.879,38.9444],\"line\":{\"color\":\"black\",\"width\":1},\"lon\":[-77.377,-77.4558],\"mode\":\"lines\",\"showlegend\":false,\"type\":\"scattermapbox\"},{\"lat\":[36.753,38.9444],\"line\":{\"color\":\"black\",\"width\":1},\"lon\":[-78.197,-77.4558],\"mode\":\"lines\",\"showlegend\":false,\"type\":\"scattermapbox\"},{\"lat\":[34.066,45.4576],\"line\":{\"color\":\"black\",\"width\":1},\"lon\":[-118.436,-73.7497],\"mode\":\"lines\",\"showlegend\":false,\"type\":\"scattermapbox\"},{\"lat\":[42.0182,41.9786],\"line\":{\"color\":\"black\",\"width\":1},\"lon\":[-88.2173,-87.9047],\"mode\":\"lines\",\"showlegend\":false,\"type\":\"scattermapbox\"},{\"lat\":[38.393,37.3833],\"line\":{\"color\":\"black\",\"width\":1},\"lon\":[-122.751,-122.0667],\"mode\":\"lines\",\"showlegend\":false,\"type\":\"scattermapbox\"},{\"lat\":[41.3969,33.6367],\"line\":{\"color\":\"black\",\"width\":1},\"lon\":[-87.3274,-84.4281],\"mode\":\"lines\",\"showlegend\":false,\"type\":\"scattermapbox\"},{\"lat\":[37.474,47.4489],\"line\":{\"color\":\"black\",\"width\":1},\"lon\":[-120.857,-122.3094],\"mode\":\"lines\",\"showlegend\":false,\"type\":\"scattermapbox\"},{\"lat\":[47.584,47.4489],\"line\":{\"color\":\"black\",\"width\":1},\"lon\":[-122.299,-122.3094],\"mode\":\"lines\",\"showlegend\":false,\"type\":\"scattermapbox\"},{\"lat\":[35.136,33.6367],\"line\":{\"color\":\"black\",\"width\":1},\"lon\":[-89.773,-84.4281],\"mode\":\"lines\",\"showlegend\":false,\"type\":\"scattermapbox\"},{\"lat\":[42.75,40.7667],\"line\":{\"color\":\"black\",\"width\":1},\"lon\":[-73.595,-73.8667],\"mode\":\"lines\",\"showlegend\":false,\"type\":\"scattermapbox\"},{\"lat\":[45.167,41.9786],\"line\":{\"color\":\"black\",\"width\":1},\"lon\":[-93.248,-87.9047],\"mode\":\"lines\",\"showlegend\":false,\"type\":\"scattermapbox\"},{\"lat\":[41.9,41.9786],\"line\":{\"color\":\"black\",\"width\":1},\"lon\":[-87.637,-87.9047],\"mode\":\"lines\",\"showlegend\":false,\"type\":\"scattermapbox\"},{\"lat\":[37.748,37.3833],\"line\":{\"color\":\"black\",\"width\":1},\"lon\":[-122.416,-122.0667],\"mode\":\"lines\",\"showlegend\":false,\"type\":\"scattermapbox\"},{\"lat\":[42.056,40.7667],\"line\":{\"color\":\"black\",\"width\":1},\"lon\":[-71.12,-73.8667],\"mode\":\"lines\",\"showlegend\":false,\"type\":\"scattermapbox\"},{\"lat\":[39.74,40.7667],\"line\":{\"color\":\"black\",\"width\":1},\"lon\":[-74.971,-73.8667],\"mode\":\"lines\",\"showlegend\":false,\"type\":\"scattermapbox\"},{\"lat\":[39.978,40.7667],\"line\":{\"color\":\"black\",\"width\":1},\"lon\":[-75.122,-73.8667],\"mode\":\"lines\",\"showlegend\":false,\"type\":\"scattermapbox\"},{\"lat\":[30.213,32.8969],\"line\":{\"color\":\"black\",\"width\":1},\"lon\":[-95.539,-97.0381],\"mode\":\"lines\",\"showlegend\":false,\"type\":\"scattermapbox\"},{\"lat\":[47.308,47.4489],\"line\":{\"color\":\"black\",\"width\":1},\"lon\":[-122.264,-122.3094],\"mode\":\"lines\",\"showlegend\":false,\"type\":\"scattermapbox\"},{\"lat\":[39.132,38.9444],\"line\":{\"color\":\"black\",\"width\":1},\"lon\":[-77.288,-77.4558],\"mode\":\"lines\",\"showlegend\":false,\"type\":\"scattermapbox\"},{\"lat\":[43.048,43.6767],\"line\":{\"color\":\"black\",\"width\":1},\"lon\":[-76.296,-79.6306],\"mode\":\"lines\",\"showlegend\":false,\"type\":\"scattermapbox\"},{\"lat\":[37.735,40.7667],\"line\":{\"color\":\"black\",\"width\":1},\"lon\":[-122.373,-73.8667],\"mode\":\"lines\",\"showlegend\":false,\"type\":\"scattermapbox\"},{\"lat\":[47.634,47.4489],\"line\":{\"color\":\"black\",\"width\":1},\"lon\":[-122.342,-122.3094],\"mode\":\"lines\",\"showlegend\":false,\"type\":\"scattermapbox\"},{\"lat\":[32.731,33.9425],\"line\":{\"color\":\"black\",\"width\":1},\"lon\":[-117.039,-118.4072],\"mode\":\"lines\",\"showlegend\":false,\"type\":\"scattermapbox\"},{\"lat\":[61.215,47.4489],\"line\":{\"color\":\"black\",\"width\":1},\"lon\":[-149.258,-122.3094],\"mode\":\"lines\",\"showlegend\":false,\"type\":\"scattermapbox\"},{\"lat\":[33.249,33.9425],\"line\":{\"color\":\"black\",\"width\":1},\"lon\":[-111.634,-118.4072],\"mode\":\"lines\",\"showlegend\":false,\"type\":\"scattermapbox\"},{\"lat\":[28.473,32.8969],\"line\":{\"color\":\"black\",\"width\":1},\"lon\":[-97.707,-97.0381],\"mode\":\"lines\",\"showlegend\":false,\"type\":\"scattermapbox\"},{\"lat\":[30.366,32.8969],\"line\":{\"color\":\"black\",\"width\":1},\"lon\":[-97.644,-97.0381],\"mode\":\"lines\",\"showlegend\":false,\"type\":\"scattermapbox\"},{\"lat\":[25.7806,33.6367],\"line\":{\"color\":\"black\",\"width\":1},\"lon\":[-80.1826,-84.4281],\"mode\":\"lines\",\"showlegend\":false,\"type\":\"scattermapbox\"},{\"lat\":[42.056,41.9786],\"line\":{\"color\":\"black\",\"width\":1},\"lon\":[-87.701,-87.9047],\"mode\":\"lines\",\"showlegend\":false,\"type\":\"scattermapbox\"},{\"lat\":[32.978,33.9425],\"line\":{\"color\":\"black\",\"width\":1},\"lon\":[-117.023,-118.4072],\"mode\":\"lines\",\"showlegend\":false,\"type\":\"scattermapbox\"},{\"lat\":[31.759,32.8969],\"line\":{\"color\":\"black\",\"width\":1},\"lon\":[-106.487,-97.0381],\"mode\":\"lines\",\"showlegend\":false,\"type\":\"scattermapbox\"},{\"lat\":[45.195,47.4489],\"line\":{\"color\":\"black\",\"width\":1},\"lon\":[-123.247,-122.3094],\"mode\":\"lines\",\"showlegend\":false,\"type\":\"scattermapbox\"},{\"lat\":[41.145,32.8969],\"line\":{\"color\":\"black\",\"width\":1},\"lon\":[-73.343,-97.0381],\"mode\":\"lines\",\"showlegend\":false,\"type\":\"scattermapbox\"},{\"lat\":[42.036,41.9786],\"line\":{\"color\":\"black\",\"width\":1},\"lon\":[-88.38,-87.9047],\"mode\":\"lines\",\"showlegend\":false,\"type\":\"scattermapbox\"},{\"lat\":[33.624,33.9425],\"line\":{\"color\":\"black\",\"width\":1},\"lon\":[-112.051,-118.4072],\"mode\":\"lines\",\"showlegend\":false,\"type\":\"scattermapbox\"},{\"lat\":[34.154,33.6367],\"line\":{\"color\":\"black\",\"width\":1},\"lon\":[-86.747,-84.4281],\"mode\":\"lines\",\"showlegend\":false,\"type\":\"scattermapbox\"},{\"lat\":[45.545,47.4489],\"line\":{\"color\":\"black\",\"width\":1},\"lon\":[-121.154,-122.3094],\"mode\":\"lines\",\"showlegend\":false,\"type\":\"scattermapbox\"},{\"lat\":[29.9736,33.6367],\"line\":{\"color\":\"black\",\"width\":1},\"lon\":[-90.0857,-84.4281],\"mode\":\"lines\",\"showlegend\":false,\"type\":\"scattermapbox\"},{\"lat\":[32.8148,32.8969],\"line\":{\"color\":\"black\",\"width\":1},\"lon\":[-96.8705,-97.0381],\"mode\":\"lines\",\"showlegend\":false,\"type\":\"scattermapbox\"},{\"lat\":[40.694,40.7667],\"line\":{\"color\":\"black\",\"width\":1},\"lon\":[-73.991,-73.8667],\"mode\":\"lines\",\"showlegend\":false,\"type\":\"scattermapbox\"},{\"lat\":[25.603,25.7833],\"line\":{\"color\":\"black\",\"width\":1},\"lon\":[-80.335,-80.2667],\"mode\":\"lines\",\"showlegend\":false,\"type\":\"scattermapbox\"},{\"lat\":[39.848,41.9786],\"line\":{\"color\":\"black\",\"width\":1},\"lon\":[-86.195,-87.9047],\"mode\":\"lines\",\"showlegend\":false,\"type\":\"scattermapbox\"},{\"lat\":[37.751,33.9425],\"line\":{\"color\":\"black\",\"width\":1},\"lon\":[-97.822,-118.4072],\"mode\":\"lines\",\"showlegend\":false,\"type\":\"scattermapbox\"},{\"lat\":[28.752,25.7833],\"line\":{\"color\":\"black\",\"width\":1},\"lon\":[-81.247,-80.2667],\"mode\":\"lines\",\"showlegend\":false,\"type\":\"scattermapbox\"},{\"lat\":[40.108,32.8969],\"line\":{\"color\":\"black\",\"width\":1},\"lon\":[-75.22,-97.0381],\"mode\":\"lines\",\"showlegend\":false,\"type\":\"scattermapbox\"},{\"lat\":[42.068,41.9786],\"line\":{\"color\":\"black\",\"width\":1},\"lon\":[-88.019,-87.9047],\"mode\":\"lines\",\"showlegend\":false,\"type\":\"scattermapbox\"},{\"lat\":[30.1843,32.8969],\"line\":{\"color\":\"black\",\"width\":1},\"lon\":[-92.0497,-97.0381],\"mode\":\"lines\",\"showlegend\":false,\"type\":\"scattermapbox\"},{\"lat\":[34.049,33.9425],\"line\":{\"color\":\"black\",\"width\":1},\"lon\":[-118.442,-118.4072],\"mode\":\"lines\",\"showlegend\":false,\"type\":\"scattermapbox\"},{\"lat\":[40.279,40.7667],\"line\":{\"color\":\"black\",\"width\":1},\"lon\":[-74.368,-73.8667],\"mode\":\"lines\",\"showlegend\":false,\"type\":\"scattermapbox\"},{\"lat\":[42.262,40.7667],\"line\":{\"color\":\"black\",\"width\":1},\"lon\":[-72.503,-73.8667],\"mode\":\"lines\",\"showlegend\":false,\"type\":\"scattermapbox\"},{\"lat\":[37.342,37.3833],\"line\":{\"color\":\"black\",\"width\":1},\"lon\":[-121.905,-122.0667],\"mode\":\"lines\",\"showlegend\":false,\"type\":\"scattermapbox\"},{\"lat\":[43.03,43.6767],\"line\":{\"color\":\"black\",\"width\":1},\"lon\":[-76.004,-79.6306],\"mode\":\"lines\",\"showlegend\":false,\"type\":\"scattermapbox\"},{\"lat\":[33.071,33.9425],\"line\":{\"color\":\"black\",\"width\":1},\"lon\":[-116.837,-118.4072],\"mode\":\"lines\",\"showlegend\":false,\"type\":\"scattermapbox\"},{\"lat\":[33.968,33.9425],\"line\":{\"color\":\"black\",\"width\":1},\"lon\":[-117.3194,-118.4072],\"mode\":\"lines\",\"showlegend\":false,\"type\":\"scattermapbox\"},{\"lat\":[42.127,41.9786],\"line\":{\"color\":\"black\",\"width\":1},\"lon\":[-86.307,-87.9047],\"mode\":\"lines\",\"showlegend\":false,\"type\":\"scattermapbox\"},{\"lat\":[30.725,32.8969],\"line\":{\"color\":\"black\",\"width\":1},\"lon\":[-94.823,-97.0381],\"mode\":\"lines\",\"showlegend\":false,\"type\":\"scattermapbox\"},{\"lat\":[37.776,37.3833],\"line\":{\"color\":\"black\",\"width\":1},\"lon\":[-122.413,-122.0667],\"mode\":\"lines\",\"showlegend\":false,\"type\":\"scattermapbox\"},{\"lat\":[35.205,32.8969],\"line\":{\"color\":\"black\",\"width\":1},\"lon\":[-88.15,-97.0381],\"mode\":\"lines\",\"showlegend\":false,\"type\":\"scattermapbox\"},{\"lat\":[38.0,32.8969],\"line\":{\"color\":\"black\",\"width\":1},\"lon\":[-97.0,-97.0381],\"mode\":\"lines\",\"showlegend\":false,\"type\":\"scattermapbox\"},{\"lat\":[47.606,47.4489],\"line\":{\"color\":\"black\",\"width\":1},\"lon\":[-122.332,-122.3094],\"mode\":\"lines\",\"showlegend\":false,\"type\":\"scattermapbox\"},{\"lat\":[26.1546,32.8969],\"line\":{\"color\":\"black\",\"width\":1},\"lon\":[-98.2045,-97.0381],\"mode\":\"lines\",\"showlegend\":false,\"type\":\"scattermapbox\"},{\"lat\":[40.6789,40.7667],\"line\":{\"color\":\"black\",\"width\":1},\"lon\":[-73.4474,-73.8667],\"mode\":\"lines\",\"showlegend\":false,\"type\":\"scattermapbox\"},{\"lat\":[33.6,33.9425],\"line\":{\"color\":\"black\",\"width\":1},\"lon\":[-117.672,-118.4072],\"mode\":\"lines\",\"showlegend\":false,\"type\":\"scattermapbox\"},{\"lat\":[38.0,39.8561],\"line\":{\"color\":\"black\",\"width\":1},\"lon\":[-97.0,-104.6737],\"mode\":\"lines\",\"showlegend\":false,\"type\":\"scattermapbox\"},{\"lat\":[41.566,33.6367],\"line\":{\"color\":\"black\",\"width\":1},\"lon\":[-91.266,-84.4281],\"mode\":\"lines\",\"showlegend\":false,\"type\":\"scattermapbox\"},{\"lat\":[37.751,32.8969],\"line\":{\"color\":\"black\",\"width\":1},\"lon\":[-97.822,-97.0381],\"mode\":\"lines\",\"showlegend\":false,\"type\":\"scattermapbox\"},{\"lat\":[44.937,41.9786],\"line\":{\"color\":\"black\",\"width\":1},\"lon\":[-93.222,-87.9047],\"mode\":\"lines\",\"showlegend\":false,\"type\":\"scattermapbox\"},{\"lat\":[32.737,33.9425],\"line\":{\"color\":\"black\",\"width\":1},\"lon\":[-117.088,-118.4072],\"mode\":\"lines\",\"showlegend\":false,\"type\":\"scattermapbox\"},{\"lat\":[47.102,47.4489],\"line\":{\"color\":\"black\",\"width\":1},\"lon\":[-122.327,-122.3094],\"mode\":\"lines\",\"showlegend\":false,\"type\":\"scattermapbox\"},{\"lat\":[41.1266,41.9786],\"line\":{\"color\":\"black\",\"width\":1},\"lon\":[-88.8453,-87.9047],\"mode\":\"lines\",\"showlegend\":false,\"type\":\"scattermapbox\"},{\"lat\":[33.829,33.9425],\"line\":{\"color\":\"black\",\"width\":1},\"lon\":[-118.117,-118.4072],\"mode\":\"lines\",\"showlegend\":false,\"type\":\"scattermapbox\"},{\"lat\":[47.835,47.4489],\"line\":{\"color\":\"black\",\"width\":1},\"lon\":[-122.328,-122.3094],\"mode\":\"lines\",\"showlegend\":false,\"type\":\"scattermapbox\"},{\"lat\":[38.819,38.9444],\"line\":{\"color\":\"black\",\"width\":1},\"lon\":[-77.062,-77.4558],\"mode\":\"lines\",\"showlegend\":false,\"type\":\"scattermapbox\"},{\"lat\":[42.987,41.9786],\"line\":{\"color\":\"black\",\"width\":1},\"lon\":[-82.467,-87.9047],\"mode\":\"lines\",\"showlegend\":false,\"type\":\"scattermapbox\"},{\"lat\":[40.842,40.7667],\"line\":{\"color\":\"black\",\"width\":1},\"lon\":[-73.856,-73.8667],\"mode\":\"lines\",\"showlegend\":false,\"type\":\"scattermapbox\"},{\"lat\":[38.024,32.8969],\"line\":{\"color\":\"black\",\"width\":1},\"lon\":[-122.54,-97.0381],\"mode\":\"lines\",\"showlegend\":false,\"type\":\"scattermapbox\"},{\"lat\":[40.531,40.7667],\"line\":{\"color\":\"black\",\"width\":1},\"lon\":[-76.623,-73.8667],\"mode\":\"lines\",\"showlegend\":false,\"type\":\"scattermapbox\"},{\"lat\":[38.0,32.8969],\"line\":{\"color\":\"black\",\"width\":1},\"lon\":[-97.0,-97.0381],\"mode\":\"lines\",\"showlegend\":false,\"type\":\"scattermapbox\"},{\"lat\":[37.751,38.9444],\"line\":{\"color\":\"black\",\"width\":1},\"lon\":[-97.822,-77.4558],\"mode\":\"lines\",\"showlegend\":false,\"type\":\"scattermapbox\"},{\"lat\":[34.573,32.8969],\"line\":{\"color\":\"black\",\"width\":1},\"lon\":[-101.735,-97.0381],\"mode\":\"lines\",\"showlegend\":false,\"type\":\"scattermapbox\"},{\"lat\":[41.156,40.7667],\"line\":{\"color\":\"black\",\"width\":1},\"lon\":[-73.99,-73.8667],\"mode\":\"lines\",\"showlegend\":false,\"type\":\"scattermapbox\"},{\"lat\":[27.18,32.8969],\"line\":{\"color\":\"black\",\"width\":1},\"lon\":[-80.243,-97.0381],\"mode\":\"lines\",\"showlegend\":false,\"type\":\"scattermapbox\"},{\"lat\":[25.937,25.7833],\"line\":{\"color\":\"black\",\"width\":1},\"lon\":[-80.317,-80.2667],\"mode\":\"lines\",\"showlegend\":false,\"type\":\"scattermapbox\"},{\"lat\":[40.676,40.7667],\"line\":{\"color\":\"black\",\"width\":1},\"lon\":[-74.573,-73.8667],\"mode\":\"lines\",\"showlegend\":false,\"type\":\"scattermapbox\"},{\"lat\":[40.051,32.8969],\"line\":{\"color\":\"black\",\"width\":1},\"lon\":[-105.204,-97.0381],\"mode\":\"lines\",\"showlegend\":false,\"type\":\"scattermapbox\"},{\"lat\":[40.61,40.7667],\"line\":{\"color\":\"black\",\"width\":1},\"lon\":[-73.911,-73.8667],\"mode\":\"lines\",\"showlegend\":false,\"type\":\"scattermapbox\"},{\"lat\":[37.971,33.9425],\"line\":{\"color\":\"black\",\"width\":1},\"lon\":[-121.96,-118.4072],\"mode\":\"lines\",\"showlegend\":false,\"type\":\"scattermapbox\"},{\"lat\":[29.424,32.8969],\"line\":{\"color\":\"black\",\"width\":1},\"lon\":[-98.494,-97.0381],\"mode\":\"lines\",\"showlegend\":false,\"type\":\"scattermapbox\"},{\"lat\":[25.858,25.7833],\"line\":{\"color\":\"black\",\"width\":1},\"lon\":[-80.131,-80.2667],\"mode\":\"lines\",\"showlegend\":false,\"type\":\"scattermapbox\"},{\"lat\":[42.249,40.7667],\"line\":{\"color\":\"black\",\"width\":1},\"lon\":[-71.766,-73.8667],\"mode\":\"lines\",\"showlegend\":false,\"type\":\"scattermapbox\"},{\"lat\":[41.745,32.8969],\"line\":{\"color\":\"black\",\"width\":1},\"lon\":[-87.77,-97.0381],\"mode\":\"lines\",\"showlegend\":false,\"type\":\"scattermapbox\"},{\"lat\":[41.971,41.9786],\"line\":{\"color\":\"black\",\"width\":1},\"lon\":[-88.018,-87.9047],\"mode\":\"lines\",\"showlegend\":false,\"type\":\"scattermapbox\"},{\"lat\":[40.992,40.7667],\"line\":{\"color\":\"black\",\"width\":1},\"lon\":[-72.199,-73.8667],\"mode\":\"lines\",\"showlegend\":false,\"type\":\"scattermapbox\"},{\"lat\":[29.939,33.6367],\"line\":{\"color\":\"black\",\"width\":1},\"lon\":[-90.074,-84.4281],\"mode\":\"lines\",\"showlegend\":false,\"type\":\"scattermapbox\"},{\"lat\":[47.542,47.4489],\"line\":{\"color\":\"black\",\"width\":1},\"lon\":[-122.312,-122.3094],\"mode\":\"lines\",\"showlegend\":false,\"type\":\"scattermapbox\"},{\"lat\":[47.038,47.4489],\"line\":{\"color\":\"black\",\"width\":1},\"lon\":[-122.901,-122.3094],\"mode\":\"lines\",\"showlegend\":false,\"type\":\"scattermapbox\"},{\"lat\":[42.587,42.8356,32.959,45.707,38.0,41.389,37.679,43.051,28.006,34.138,37.834,37.748,33.994,25.7806,33.0812,32.6615,33.762,42.457,44.571,39.163,40.736,42.248,37.812,33.788,28.6778,35.854,39.917,40.0925,34.0119,30.288,26.114,34.165,42.38,44.77,29.657,35.1862,41.498,38.0,38.909,39.974,39.969,41.832,32.815,47.56,41.309,26.272,39.494,30.141,32.957,40.101,40.029,32.231,33.035,33.7271,37.3744,39.597,41.832,29.94,33.432,38.0,37.769,39.759,33.938,35.15,25.798,30.606,40.085,34.007,37.748,40.61,42.611,37.751,25.9489,37.748,33.827,30.4,37.1702,38.537,35.185,41.922,39.687,40.648,33.036,43.0056,44.06,40.153,25.894,45.63,34.97,34.154,38.0,33.789,36.742,41.501,47.572,36.548,33.466,38.938,37.653,43.066,41.892,36.748,31.989,37.682,38.879,36.753,34.066,42.0182,38.393,41.3969,37.474,47.584,35.136,42.75,45.167,41.9,37.748,42.056,39.74,39.978,30.213,47.308,39.132,43.048,37.735,47.634,32.731,61.215,33.249,28.473,30.366,25.7806,42.056,32.978,31.759,45.195,41.145,42.036,33.624,34.154,45.545,29.9736,32.8148,40.694,25.603,39.848,37.751,28.752,40.108,42.068,30.1843,34.049,40.279,42.262,37.342,43.03,33.071,33.968,42.127,30.725,37.776,35.205,38.0,47.606,26.1546,40.6789,33.6,38.0,41.566,37.751,44.937,32.737,47.102,41.1266,33.829,47.835,38.819,42.987,40.842,38.024,40.531,38.0,37.751,34.573,41.156,27.18,25.937,40.676,40.051,40.61,37.971,29.424,25.858,42.249,41.745,41.971,40.992,29.939,47.542,47.038],\"lon\":[-83.236,-78.7484,-96.981,-110.539,-97.0,-81.537,-122.476,-73.401,-82.59,-118.392,-122.265,-122.416,-118.464,-80.1826,-96.8133,-97.1694,-84.398,-71.218,-70.512,-76.632,-74.072,-88.608,-122.242,-117.974,-81.3278,-80.108,-76.726,-74.9853,-118.4682,-81.426,-80.384,-83.235,-71.1329,-69.428,-98.511,-80.7479,-88.037,-97.0,-77.018,-86.176,-75.176,-87.79,-96.87,-122.228,-72.924,-80.258,-76.911,-95.469,-117.198,-75.641,-83.081,-95.296,-96.813,-84.5785,-121.7582,-84.156,-87.79,-82.701,-112.015,-97.0,-122.445,-104.969,-117.231,-101.873,-80.321,-87.858,-82.975,-118.032,-122.416,-73.911,-71.231,-97.822,-80.2422,-84.295,-84.324,-97.7528,-93.3297,-121.663,-90.094,-87.652,-84.164,-73.934,-96.671,-73.8628,-88.528,-87.646,-80.182,-122.52,-116.993,-117.764,-97.0,-117.869,-93.029,-75.603,-122.333,-82.562,-111.925,-77.093,-122.423,-88.754,-87.936,-119.772,-83.3217,-121.768,-77.377,-78.197,-118.436,-88.2173,-122.751,-87.3274,-120.857,-122.299,-89.773,-73.595,-93.248,-87.637,-122.416,-71.12,-74.971,-75.122,-95.539,-122.264,-77.288,-76.296,-122.373,-122.342,-117.039,-149.258,-111.634,-97.707,-97.644,-80.1826,-87.701,-117.023,-106.487,-123.247,-73.343,-88.38,-112.051,-86.747,-121.154,-90.0857,-96.8705,-73.991,-80.335,-86.195,-97.822,-81.247,-75.22,-88.019,-92.0497,-118.442,-74.368,-72.503,-121.905,-76.004,-116.837,-117.3194,-86.307,-94.823,-122.413,-88.15,-97.0,-122.332,-98.2045,-73.4474,-117.672,-97.0,-91.266,-97.822,-93.222,-117.088,-122.327,-88.8453,-118.117,-122.328,-77.062,-82.467,-73.856,-122.54,-76.623,-97.0,-97.822,-101.735,-73.99,-80.243,-80.317,-74.573,-105.204,-73.911,-121.96,-98.494,-80.131,-71.766,-87.77,-88.018,-72.199,-90.074,-122.312,-122.901],\"marker\":{\"color\":\"blue\",\"size\":6},\"mode\":\"markers\",\"name\":\"Clients\",\"type\":\"scattermapbox\"},{\"lat\":[43.6767,40.7667,32.8969,51.1315,33.9425,40.7667,37.3833,40.7667,25.7833,33.9425,37.3833,37.3833,33.9425,25.7833,32.8969,32.8969,32.8969,40.7667,40.7667,40.7667,41.9786,41.9786,33.9425,37.3833,25.7833,38.9444,40.7667,40.7667,47.4489,33.6367,25.7833,33.6367,40.7667,45.4576,32.8969,33.6367,41.9786,40.7667,38.9444,41.9786,40.7667,41.9786,32.8969,32.8969,32.8969,25.7833,40.7667,32.8969,33.9425,40.7667,41.9786,32.8969,32.8969,33.6367,37.3833,41.9786,41.9786,33.6367,33.9425,40.7667,37.3833,39.8561,33.9425,32.8969,25.7833,33.6367,41.9786,37.3833,37.3833,40.7667,40.7667,32.8969,25.7833,25.7833,33.6367,32.8969,32.8969,37.3833,33.6367,41.9786,41.9786,40.7667,32.8969,40.7667,41.9786,41.9786,25.7833,47.4489,37.3833,45.4576,33.9425,33.9425,41.9786,40.7667,47.4489,41.9786,33.9425,32.8969,37.3833,41.9786,41.9786,33.9425,33.6367,37.3833,38.9444,38.9444,45.4576,41.9786,37.3833,33.6367,47.4489,47.4489,33.6367,40.7667,41.9786,41.9786,37.3833,40.7667,40.7667,40.7667,32.8969,47.4489,38.9444,43.6767,40.7667,47.4489,33.9425,47.4489,33.9425,32.8969,32.8969,33.6367,41.9786,33.9425,32.8969,47.4489,32.8969,41.9786,33.9425,33.6367,47.4489,33.6367,32.8969,40.7667,25.7833,41.9786,33.9425,25.7833,32.8969,41.9786,32.8969,33.9425,40.7667,40.7667,37.3833,43.6767,33.9425,33.9425,41.9786,32.8969,37.3833,32.8969,32.8969,47.4489,32.8969,40.7667,33.9425,39.8561,33.6367,32.8969,41.9786,33.9425,47.4489,41.9786,33.9425,47.4489,38.9444,41.9786,40.7667,32.8969,40.7667,32.8969,38.9444,32.8969,40.7667,32.8969,25.7833,40.7667,32.8969,40.7667,33.9425,32.8969,25.7833,40.7667,32.8969,41.9786,40.7667,33.6367,47.4489,47.4489],\"lon\":[-79.6306,-73.8667,-97.0381,-114.0106,-118.4072,-73.8667,-122.0667,-73.8667,-80.2667,-118.4072,-122.0667,-122.0667,-118.4072,-80.2667,-97.0381,-97.0381,-97.0381,-73.8667,-73.8667,-73.8667,-87.9047,-87.9047,-118.4072,-122.0667,-80.2667,-77.4558,-73.8667,-73.8667,-122.3094,-84.4281,-80.2667,-84.4281,-73.8667,-73.7497,-97.0381,-84.4281,-87.9047,-73.8667,-77.4558,-87.9047,-73.8667,-87.9047,-97.0381,-97.0381,-97.0381,-80.2667,-73.8667,-97.0381,-118.4072,-73.8667,-87.9047,-97.0381,-97.0381,-84.4281,-122.0667,-87.9047,-87.9047,-84.4281,-118.4072,-73.8667,-122.0667,-104.6737,-118.4072,-97.0381,-80.2667,-84.4281,-87.9047,-122.0667,-122.0667,-73.8667,-73.8667,-97.0381,-80.2667,-80.2667,-84.4281,-97.0381,-97.0381,-122.0667,-84.4281,-87.9047,-87.9047,-73.8667,-97.0381,-73.8667,-87.9047,-87.9047,-80.2667,-122.3094,-122.0667,-73.7497,-118.4072,-118.4072,-87.9047,-73.8667,-122.3094,-87.9047,-118.4072,-97.0381,-122.0667,-87.9047,-87.9047,-118.4072,-84.4281,-122.0667,-77.4558,-77.4558,-73.7497,-87.9047,-122.0667,-84.4281,-122.3094,-122.3094,-84.4281,-73.8667,-87.9047,-87.9047,-122.0667,-73.8667,-73.8667,-73.8667,-97.0381,-122.3094,-77.4558,-79.6306,-73.8667,-122.3094,-118.4072,-122.3094,-118.4072,-97.0381,-97.0381,-84.4281,-87.9047,-118.4072,-97.0381,-122.3094,-97.0381,-87.9047,-118.4072,-84.4281,-122.3094,-84.4281,-97.0381,-73.8667,-80.2667,-87.9047,-118.4072,-80.2667,-97.0381,-87.9047,-97.0381,-118.4072,-73.8667,-73.8667,-122.0667,-79.6306,-118.4072,-118.4072,-87.9047,-97.0381,-122.0667,-97.0381,-97.0381,-122.3094,-97.0381,-73.8667,-118.4072,-104.6737,-84.4281,-97.0381,-87.9047,-118.4072,-122.3094,-87.9047,-118.4072,-122.3094,-77.4558,-87.9047,-73.8667,-97.0381,-73.8667,-97.0381,-77.4558,-97.0381,-73.8667,-97.0381,-80.2667,-73.8667,-97.0381,-73.8667,-118.4072,-97.0381,-80.2667,-73.8667,-97.0381,-87.9047,-73.8667,-84.4281,-122.3094,-122.3094],\"marker\":{\"color\":\"red\",\"size\":6},\"mode\":\"markers\",\"name\":\"Servers\",\"type\":\"scattermapbox\"}],                        {\"template\":{\"data\":{\"histogram2dcontour\":[{\"type\":\"histogram2dcontour\",\"colorbar\":{\"outlinewidth\":0,\"ticks\":\"\"},\"colorscale\":[[0.0,\"#0d0887\"],[0.1111111111111111,\"#46039f\"],[0.2222222222222222,\"#7201a8\"],[0.3333333333333333,\"#9c179e\"],[0.4444444444444444,\"#bd3786\"],[0.5555555555555556,\"#d8576b\"],[0.6666666666666666,\"#ed7953\"],[0.7777777777777778,\"#fb9f3a\"],[0.8888888888888888,\"#fdca26\"],[1.0,\"#f0f921\"]]}],\"choropleth\":[{\"type\":\"choropleth\",\"colorbar\":{\"outlinewidth\":0,\"ticks\":\"\"}}],\"histogram2d\":[{\"type\":\"histogram2d\",\"colorbar\":{\"outlinewidth\":0,\"ticks\":\"\"},\"colorscale\":[[0.0,\"#0d0887\"],[0.1111111111111111,\"#46039f\"],[0.2222222222222222,\"#7201a8\"],[0.3333333333333333,\"#9c179e\"],[0.4444444444444444,\"#bd3786\"],[0.5555555555555556,\"#d8576b\"],[0.6666666666666666,\"#ed7953\"],[0.7777777777777778,\"#fb9f3a\"],[0.8888888888888888,\"#fdca26\"],[1.0,\"#f0f921\"]]}],\"heatmap\":[{\"type\":\"heatmap\",\"colorbar\":{\"outlinewidth\":0,\"ticks\":\"\"},\"colorscale\":[[0.0,\"#0d0887\"],[0.1111111111111111,\"#46039f\"],[0.2222222222222222,\"#7201a8\"],[0.3333333333333333,\"#9c179e\"],[0.4444444444444444,\"#bd3786\"],[0.5555555555555556,\"#d8576b\"],[0.6666666666666666,\"#ed7953\"],[0.7777777777777778,\"#fb9f3a\"],[0.8888888888888888,\"#fdca26\"],[1.0,\"#f0f921\"]]}],\"heatmapgl\":[{\"type\":\"heatmapgl\",\"colorbar\":{\"outlinewidth\":0,\"ticks\":\"\"},\"colorscale\":[[0.0,\"#0d0887\"],[0.1111111111111111,\"#46039f\"],[0.2222222222222222,\"#7201a8\"],[0.3333333333333333,\"#9c179e\"],[0.4444444444444444,\"#bd3786\"],[0.5555555555555556,\"#d8576b\"],[0.6666666666666666,\"#ed7953\"],[0.7777777777777778,\"#fb9f3a\"],[0.8888888888888888,\"#fdca26\"],[1.0,\"#f0f921\"]]}],\"contourcarpet\":[{\"type\":\"contourcarpet\",\"colorbar\":{\"outlinewidth\":0,\"ticks\":\"\"}}],\"contour\":[{\"type\":\"contour\",\"colorbar\":{\"outlinewidth\":0,\"ticks\":\"\"},\"colorscale\":[[0.0,\"#0d0887\"],[0.1111111111111111,\"#46039f\"],[0.2222222222222222,\"#7201a8\"],[0.3333333333333333,\"#9c179e\"],[0.4444444444444444,\"#bd3786\"],[0.5555555555555556,\"#d8576b\"],[0.6666666666666666,\"#ed7953\"],[0.7777777777777778,\"#fb9f3a\"],[0.8888888888888888,\"#fdca26\"],[1.0,\"#f0f921\"]]}],\"surface\":[{\"type\":\"surface\",\"colorbar\":{\"outlinewidth\":0,\"ticks\":\"\"},\"colorscale\":[[0.0,\"#0d0887\"],[0.1111111111111111,\"#46039f\"],[0.2222222222222222,\"#7201a8\"],[0.3333333333333333,\"#9c179e\"],[0.4444444444444444,\"#bd3786\"],[0.5555555555555556,\"#d8576b\"],[0.6666666666666666,\"#ed7953\"],[0.7777777777777778,\"#fb9f3a\"],[0.8888888888888888,\"#fdca26\"],[1.0,\"#f0f921\"]]}],\"mesh3d\":[{\"type\":\"mesh3d\",\"colorbar\":{\"outlinewidth\":0,\"ticks\":\"\"}}],\"scatter\":[{\"fillpattern\":{\"fillmode\":\"overlay\",\"size\":10,\"solidity\":0.2},\"type\":\"scatter\"}],\"parcoords\":[{\"type\":\"parcoords\",\"line\":{\"colorbar\":{\"outlinewidth\":0,\"ticks\":\"\"}}}],\"scatterpolargl\":[{\"type\":\"scatterpolargl\",\"marker\":{\"colorbar\":{\"outlinewidth\":0,\"ticks\":\"\"}}}],\"bar\":[{\"error_x\":{\"color\":\"#2a3f5f\"},\"error_y\":{\"color\":\"#2a3f5f\"},\"marker\":{\"line\":{\"color\":\"#E5ECF6\",\"width\":0.5},\"pattern\":{\"fillmode\":\"overlay\",\"size\":10,\"solidity\":0.2}},\"type\":\"bar\"}],\"scattergeo\":[{\"type\":\"scattergeo\",\"marker\":{\"colorbar\":{\"outlinewidth\":0,\"ticks\":\"\"}}}],\"scatterpolar\":[{\"type\":\"scatterpolar\",\"marker\":{\"colorbar\":{\"outlinewidth\":0,\"ticks\":\"\"}}}],\"histogram\":[{\"marker\":{\"pattern\":{\"fillmode\":\"overlay\",\"size\":10,\"solidity\":0.2}},\"type\":\"histogram\"}],\"scattergl\":[{\"type\":\"scattergl\",\"marker\":{\"colorbar\":{\"outlinewidth\":0,\"ticks\":\"\"}}}],\"scatter3d\":[{\"type\":\"scatter3d\",\"line\":{\"colorbar\":{\"outlinewidth\":0,\"ticks\":\"\"}},\"marker\":{\"colorbar\":{\"outlinewidth\":0,\"ticks\":\"\"}}}],\"scattermapbox\":[{\"type\":\"scattermapbox\",\"marker\":{\"colorbar\":{\"outlinewidth\":0,\"ticks\":\"\"}}}],\"scatterternary\":[{\"type\":\"scatterternary\",\"marker\":{\"colorbar\":{\"outlinewidth\":0,\"ticks\":\"\"}}}],\"scattercarpet\":[{\"type\":\"scattercarpet\",\"marker\":{\"colorbar\":{\"outlinewidth\":0,\"ticks\":\"\"}}}],\"carpet\":[{\"aaxis\":{\"endlinecolor\":\"#2a3f5f\",\"gridcolor\":\"white\",\"linecolor\":\"white\",\"minorgridcolor\":\"white\",\"startlinecolor\":\"#2a3f5f\"},\"baxis\":{\"endlinecolor\":\"#2a3f5f\",\"gridcolor\":\"white\",\"linecolor\":\"white\",\"minorgridcolor\":\"white\",\"startlinecolor\":\"#2a3f5f\"},\"type\":\"carpet\"}],\"table\":[{\"cells\":{\"fill\":{\"color\":\"#EBF0F8\"},\"line\":{\"color\":\"white\"}},\"header\":{\"fill\":{\"color\":\"#C8D4E3\"},\"line\":{\"color\":\"white\"}},\"type\":\"table\"}],\"barpolar\":[{\"marker\":{\"line\":{\"color\":\"#E5ECF6\",\"width\":0.5},\"pattern\":{\"fillmode\":\"overlay\",\"size\":10,\"solidity\":0.2}},\"type\":\"barpolar\"}],\"pie\":[{\"automargin\":true,\"type\":\"pie\"}]},\"layout\":{\"autotypenumbers\":\"strict\",\"colorway\":[\"#636efa\",\"#EF553B\",\"#00cc96\",\"#ab63fa\",\"#FFA15A\",\"#19d3f3\",\"#FF6692\",\"#B6E880\",\"#FF97FF\",\"#FECB52\"],\"font\":{\"color\":\"#2a3f5f\"},\"hovermode\":\"closest\",\"hoverlabel\":{\"align\":\"left\"},\"paper_bgcolor\":\"white\",\"plot_bgcolor\":\"#E5ECF6\",\"polar\":{\"bgcolor\":\"#E5ECF6\",\"angularaxis\":{\"gridcolor\":\"white\",\"linecolor\":\"white\",\"ticks\":\"\"},\"radialaxis\":{\"gridcolor\":\"white\",\"linecolor\":\"white\",\"ticks\":\"\"}},\"ternary\":{\"bgcolor\":\"#E5ECF6\",\"aaxis\":{\"gridcolor\":\"white\",\"linecolor\":\"white\",\"ticks\":\"\"},\"baxis\":{\"gridcolor\":\"white\",\"linecolor\":\"white\",\"ticks\":\"\"},\"caxis\":{\"gridcolor\":\"white\",\"linecolor\":\"white\",\"ticks\":\"\"}},\"coloraxis\":{\"colorbar\":{\"outlinewidth\":0,\"ticks\":\"\"}},\"colorscale\":{\"sequential\":[[0.0,\"#0d0887\"],[0.1111111111111111,\"#46039f\"],[0.2222222222222222,\"#7201a8\"],[0.3333333333333333,\"#9c179e\"],[0.4444444444444444,\"#bd3786\"],[0.5555555555555556,\"#d8576b\"],[0.6666666666666666,\"#ed7953\"],[0.7777777777777778,\"#fb9f3a\"],[0.8888888888888888,\"#fdca26\"],[1.0,\"#f0f921\"]],\"sequentialminus\":[[0.0,\"#0d0887\"],[0.1111111111111111,\"#46039f\"],[0.2222222222222222,\"#7201a8\"],[0.3333333333333333,\"#9c179e\"],[0.4444444444444444,\"#bd3786\"],[0.5555555555555556,\"#d8576b\"],[0.6666666666666666,\"#ed7953\"],[0.7777777777777778,\"#fb9f3a\"],[0.8888888888888888,\"#fdca26\"],[1.0,\"#f0f921\"]],\"diverging\":[[0,\"#8e0152\"],[0.1,\"#c51b7d\"],[0.2,\"#de77ae\"],[0.3,\"#f1b6da\"],[0.4,\"#fde0ef\"],[0.5,\"#f7f7f7\"],[0.6,\"#e6f5d0\"],[0.7,\"#b8e186\"],[0.8,\"#7fbc41\"],[0.9,\"#4d9221\"],[1,\"#276419\"]]},\"xaxis\":{\"gridcolor\":\"white\",\"linecolor\":\"white\",\"ticks\":\"\",\"title\":{\"standoff\":15},\"zerolinecolor\":\"white\",\"automargin\":true,\"zerolinewidth\":2},\"yaxis\":{\"gridcolor\":\"white\",\"linecolor\":\"white\",\"ticks\":\"\",\"title\":{\"standoff\":15},\"zerolinecolor\":\"white\",\"automargin\":true,\"zerolinewidth\":2},\"scene\":{\"xaxis\":{\"backgroundcolor\":\"#E5ECF6\",\"gridcolor\":\"white\",\"linecolor\":\"white\",\"showbackground\":true,\"ticks\":\"\",\"zerolinecolor\":\"white\",\"gridwidth\":2},\"yaxis\":{\"backgroundcolor\":\"#E5ECF6\",\"gridcolor\":\"white\",\"linecolor\":\"white\",\"showbackground\":true,\"ticks\":\"\",\"zerolinecolor\":\"white\",\"gridwidth\":2},\"zaxis\":{\"backgroundcolor\":\"#E5ECF6\",\"gridcolor\":\"white\",\"linecolor\":\"white\",\"showbackground\":true,\"ticks\":\"\",\"zerolinecolor\":\"white\",\"gridwidth\":2}},\"shapedefaults\":{\"line\":{\"color\":\"#2a3f5f\"}},\"annotationdefaults\":{\"arrowcolor\":\"#2a3f5f\",\"arrowhead\":0,\"arrowwidth\":1},\"geo\":{\"bgcolor\":\"white\",\"landcolor\":\"#E5ECF6\",\"subunitcolor\":\"white\",\"showland\":true,\"showlakes\":true,\"lakecolor\":\"white\"},\"title\":{\"x\":0.05},\"mapbox\":{\"style\":\"light\"}}},\"margin\":{\"l\":0,\"t\":0,\"b\":0,\"r\":0},\"mapbox\":{\"center\":{\"lon\":-95.05955250000001,\"lat\":37.566795},\"style\":\"open-street-map\",\"zoom\":3},\"legend\":{\"yanchor\":\"top\",\"y\":0.99,\"xanchor\":\"left\",\"x\":0.01}},                        {\"responsive\": true}                    ).then(function(){\n",
       "                            \n",
       "var gd = document.getElementById('dcb09aa8-d97c-4e8f-87ba-aa074a41b231');\n",
       "var x = new MutationObserver(function (mutations, observer) {{\n",
       "        var display = window.getComputedStyle(gd).display;\n",
       "        if (!display || display === 'none') {{\n",
       "            console.log([gd, 'removed!']);\n",
       "            Plotly.purge(gd);\n",
       "            observer.disconnect();\n",
       "        }}\n",
       "}});\n",
       "\n",
       "// Listen for the removal of the full notebook cells\n",
       "var notebookContainer = gd.closest('#notebook-container');\n",
       "if (notebookContainer) {{\n",
       "    x.observe(notebookContainer, {childList: true});\n",
       "}}\n",
       "\n",
       "// Listen for the clearing of the current output cell\n",
       "var outputEl = gd.closest('.output');\n",
       "if (outputEl) {{\n",
       "    x.observe(outputEl, {childList: true});\n",
       "}}\n",
       "\n",
       "                        })                };                });            </script>        </div>"
      ]
     },
     "metadata": {},
     "output_type": "display_data"
    }
   ],
   "source": [
    "fig = go.Figure()\n",
    "\n",
    "# Connect each client-server pair with black lines\n",
    "for i in range(len(sample_df)):\n",
    "    fig.add_trace(go.Scattermapbox(\n",
    "        lat=[sample_df.iloc[i]['client_lat'], sample_df.iloc[i]['server_lat']],\n",
    "        lon=[sample_df.iloc[i]['client_lon'], sample_df.iloc[i]['server_lon']],\n",
    "        mode='lines',\n",
    "        line=dict(width=1, color='black'),  # Set lines to black color\n",
    "        showlegend=False  # Hide legend entry for lines\n",
    "    ))\n",
    "\n",
    "# Add client locations as blue dots\n",
    "fig.add_trace(go.Scattermapbox(\n",
    "    lat=sample_df['client_lat'],\n",
    "    lon=sample_df['client_lon'],\n",
    "    mode='markers',\n",
    "    marker=dict(size=6, color='blue'),\n",
    "    name='Clients'\n",
    "))\n",
    "\n",
    "# Add server locations as red dots\n",
    "fig.add_trace(go.Scattermapbox(\n",
    "    lat=sample_df['server_lat'],\n",
    "    lon=sample_df['server_lon'],\n",
    "    mode='markers',\n",
    "    marker=dict(size=6, color='red'),\n",
    "    name='Servers'\n",
    "))\n",
    "\n",
    "# Set the layout properties\n",
    "fig.update_layout(\n",
    "    margin={'l': 0, 't': 0, 'b': 0, 'r': 0},\n",
    "    mapbox=dict(\n",
    "        style=\"open-street-map\",\n",
    "        zoom=3,  # Zoom level might need to be adjusted for better view\n",
    "        center=dict(lon=sample_df['client_lon'].mean(), lat=sample_df['client_lat'].mean())\n",
    "    ),\n",
    "    legend=dict(yanchor=\"top\", y=0.99, xanchor=\"left\", x=0.01)\n",
    ")\n",
    "\n",
    "# fig.show()\n",
    "# fig.write_html('../graphs/requests_distance_map.html')"
   ]
  },
  {
   "cell_type": "markdown",
   "id": "da1fe588-fd50-48e2-bf9f-84ae9d374640",
   "metadata": {},
   "source": [
    "We can also visualize the throughput."
   ]
  },
  {
   "cell_type": "code",
   "execution_count": 9,
   "id": "ada24c1d-6593-4dda-a0ec-dd84db44730d",
   "metadata": {},
   "outputs": [
    {
     "data": {
      "text/html": [
       "<div>\n",
       "<style scoped>\n",
       "    .dataframe tbody tr th:only-of-type {\n",
       "        vertical-align: middle;\n",
       "    }\n",
       "\n",
       "    .dataframe tbody tr th {\n",
       "        vertical-align: top;\n",
       "    }\n",
       "\n",
       "    .dataframe thead th {\n",
       "        text-align: right;\n",
       "    }\n",
       "</style>\n",
       "<table border=\"1\" class=\"dataframe\">\n",
       "  <thead>\n",
       "    <tr style=\"text-align: right;\">\n",
       "      <th></th>\n",
       "      <th>client_lat</th>\n",
       "      <th>client_lon</th>\n",
       "      <th>server_lat</th>\n",
       "      <th>server_lon</th>\n",
       "      <th>rtt</th>\n",
       "      <th>throughput</th>\n",
       "    </tr>\n",
       "  </thead>\n",
       "  <tbody>\n",
       "    <tr>\n",
       "      <th>0</th>\n",
       "      <td>48.1990</td>\n",
       "      <td>-114.3860</td>\n",
       "      <td>51.1315</td>\n",
       "      <td>-114.01060</td>\n",
       "      <td>58.0</td>\n",
       "      <td>12.303676</td>\n",
       "    </tr>\n",
       "    <tr>\n",
       "      <th>1</th>\n",
       "      <td>42.1616</td>\n",
       "      <td>-84.0238</td>\n",
       "      <td>58.8767</td>\n",
       "      <td>5.63780</td>\n",
       "      <td>131.0</td>\n",
       "      <td>61.460690</td>\n",
       "    </tr>\n",
       "    <tr>\n",
       "      <th>2</th>\n",
       "      <td>42.1616</td>\n",
       "      <td>-84.0238</td>\n",
       "      <td>48.8584</td>\n",
       "      <td>2.34900</td>\n",
       "      <td>101.0</td>\n",
       "      <td>67.424352</td>\n",
       "    </tr>\n",
       "    <tr>\n",
       "      <th>3</th>\n",
       "      <td>44.6444</td>\n",
       "      <td>-68.7402</td>\n",
       "      <td>46.1073</td>\n",
       "      <td>-64.67380</td>\n",
       "      <td>46.0</td>\n",
       "      <td>22.199707</td>\n",
       "    </tr>\n",
       "    <tr>\n",
       "      <th>4</th>\n",
       "      <td>26.1550</td>\n",
       "      <td>-98.2040</td>\n",
       "      <td>48.8584</td>\n",
       "      <td>2.34901</td>\n",
       "      <td>123.0</td>\n",
       "      <td>11.579812</td>\n",
       "    </tr>\n",
       "  </tbody>\n",
       "</table>\n",
       "</div>"
      ],
      "text/plain": [
       "   client_lat  client_lon  server_lat  server_lon    rtt  throughput\n",
       "0     48.1990   -114.3860     51.1315  -114.01060   58.0   12.303676\n",
       "1     42.1616    -84.0238     58.8767     5.63780  131.0   61.460690\n",
       "2     42.1616    -84.0238     48.8584     2.34900  101.0   67.424352\n",
       "3     44.6444    -68.7402     46.1073   -64.67380   46.0   22.199707\n",
       "4     26.1550    -98.2040     48.8584     2.34901  123.0   11.579812"
      ]
     },
     "execution_count": 9,
     "metadata": {},
     "output_type": "execute_result"
    }
   ],
   "source": [
    "df = pd.read_csv(\"../data/measurement_record_2009-2019/15-18_network_us.csv\")\n",
    "df.head(5)"
   ]
  },
  {
   "cell_type": "code",
   "execution_count": 10,
   "id": "f9859ccd-1e3b-4943-82a9-e5c0bf8d3d3d",
   "metadata": {},
   "outputs": [],
   "source": [
    "df['distance'] = np.sqrt((df['client_lat'] - df['server_lat'])**2 + (df['client_lon'] - df['server_lon'])**2)"
   ]
  },
  {
   "cell_type": "code",
   "execution_count": 11,
   "id": "eec1e8fe-bc52-484b-86bb-518a6d409690",
   "metadata": {},
   "outputs": [],
   "source": [
    "df['penalized_rtt'] = df['rtt'] / df['distance']\n",
    "df['penalized_throughput'] = np.sqrt(df['throughput'])"
   ]
  },
  {
   "cell_type": "code",
   "execution_count": 12,
   "id": "44bfe981-e8b1-4dcf-b51a-60342037c840",
   "metadata": {},
   "outputs": [
    {
     "data": {
      "text/html": [
       "<div>\n",
       "<style scoped>\n",
       "    .dataframe tbody tr th:only-of-type {\n",
       "        vertical-align: middle;\n",
       "    }\n",
       "\n",
       "    .dataframe tbody tr th {\n",
       "        vertical-align: top;\n",
       "    }\n",
       "\n",
       "    .dataframe thead th {\n",
       "        text-align: right;\n",
       "    }\n",
       "</style>\n",
       "<table border=\"1\" class=\"dataframe\">\n",
       "  <thead>\n",
       "    <tr style=\"text-align: right;\">\n",
       "      <th></th>\n",
       "      <th>client_lat</th>\n",
       "      <th>client_lon</th>\n",
       "      <th>server_lat</th>\n",
       "      <th>server_lon</th>\n",
       "      <th>rtt</th>\n",
       "      <th>throughput</th>\n",
       "      <th>distance</th>\n",
       "      <th>penalized_rtt</th>\n",
       "      <th>penalized_throughput</th>\n",
       "    </tr>\n",
       "  </thead>\n",
       "  <tbody>\n",
       "    <tr>\n",
       "      <th>0</th>\n",
       "      <td>48.1990</td>\n",
       "      <td>-114.3860</td>\n",
       "      <td>51.1315</td>\n",
       "      <td>-114.01060</td>\n",
       "      <td>58.0</td>\n",
       "      <td>12.303676</td>\n",
       "      <td>2.956431</td>\n",
       "      <td>19.618252</td>\n",
       "      <td>3.507660</td>\n",
       "    </tr>\n",
       "    <tr>\n",
       "      <th>1</th>\n",
       "      <td>42.1616</td>\n",
       "      <td>-84.0238</td>\n",
       "      <td>58.8767</td>\n",
       "      <td>5.63780</td>\n",
       "      <td>131.0</td>\n",
       "      <td>61.460690</td>\n",
       "      <td>91.206343</td>\n",
       "      <td>1.436304</td>\n",
       "      <td>7.839687</td>\n",
       "    </tr>\n",
       "    <tr>\n",
       "      <th>2</th>\n",
       "      <td>42.1616</td>\n",
       "      <td>-84.0238</td>\n",
       "      <td>48.8584</td>\n",
       "      <td>2.34900</td>\n",
       "      <td>101.0</td>\n",
       "      <td>67.424352</td>\n",
       "      <td>86.632025</td>\n",
       "      <td>1.165851</td>\n",
       "      <td>8.211233</td>\n",
       "    </tr>\n",
       "    <tr>\n",
       "      <th>3</th>\n",
       "      <td>44.6444</td>\n",
       "      <td>-68.7402</td>\n",
       "      <td>46.1073</td>\n",
       "      <td>-64.67380</td>\n",
       "      <td>46.0</td>\n",
       "      <td>22.199707</td>\n",
       "      <td>4.321537</td>\n",
       "      <td>10.644360</td>\n",
       "      <td>4.711657</td>\n",
       "    </tr>\n",
       "    <tr>\n",
       "      <th>4</th>\n",
       "      <td>26.1550</td>\n",
       "      <td>-98.2040</td>\n",
       "      <td>48.8584</td>\n",
       "      <td>2.34901</td>\n",
       "      <td>123.0</td>\n",
       "      <td>11.579812</td>\n",
       "      <td>103.084200</td>\n",
       "      <td>1.193199</td>\n",
       "      <td>3.402912</td>\n",
       "    </tr>\n",
       "    <tr>\n",
       "      <th>5</th>\n",
       "      <td>40.6450</td>\n",
       "      <td>-73.9450</td>\n",
       "      <td>48.8584</td>\n",
       "      <td>2.34901</td>\n",
       "      <td>143.0</td>\n",
       "      <td>1.007712</td>\n",
       "      <td>76.734842</td>\n",
       "      <td>1.863560</td>\n",
       "      <td>1.003849</td>\n",
       "    </tr>\n",
       "    <tr>\n",
       "      <th>6</th>\n",
       "      <td>46.5370</td>\n",
       "      <td>-111.7700</td>\n",
       "      <td>51.1315</td>\n",
       "      <td>-114.01060</td>\n",
       "      <td>80.0</td>\n",
       "      <td>4.851995</td>\n",
       "      <td>5.111724</td>\n",
       "      <td>15.650298</td>\n",
       "      <td>2.202725</td>\n",
       "    </tr>\n",
       "    <tr>\n",
       "      <th>7</th>\n",
       "      <td>47.9676</td>\n",
       "      <td>-116.6809</td>\n",
       "      <td>51.1315</td>\n",
       "      <td>-114.01060</td>\n",
       "      <td>14.0</td>\n",
       "      <td>24.156381</td>\n",
       "      <td>4.140141</td>\n",
       "      <td>3.381528</td>\n",
       "      <td>4.914914</td>\n",
       "    </tr>\n",
       "    <tr>\n",
       "      <th>8</th>\n",
       "      <td>39.9460</td>\n",
       "      <td>-74.5560</td>\n",
       "      <td>48.8584</td>\n",
       "      <td>2.34901</td>\n",
       "      <td>99.0</td>\n",
       "      <td>22.224838</td>\n",
       "      <td>77.419710</td>\n",
       "      <td>1.278744</td>\n",
       "      <td>4.714323</td>\n",
       "    </tr>\n",
       "    <tr>\n",
       "      <th>9</th>\n",
       "      <td>25.7741</td>\n",
       "      <td>-80.1817</td>\n",
       "      <td>52.3086</td>\n",
       "      <td>4.76390</td>\n",
       "      <td>175.0</td>\n",
       "      <td>7.524361</td>\n",
       "      <td>88.993453</td>\n",
       "      <td>1.966437</td>\n",
       "      <td>2.743057</td>\n",
       "    </tr>\n",
       "  </tbody>\n",
       "</table>\n",
       "</div>"
      ],
      "text/plain": [
       "   client_lat  client_lon  server_lat  server_lon    rtt  throughput  \\\n",
       "0     48.1990   -114.3860     51.1315  -114.01060   58.0   12.303676   \n",
       "1     42.1616    -84.0238     58.8767     5.63780  131.0   61.460690   \n",
       "2     42.1616    -84.0238     48.8584     2.34900  101.0   67.424352   \n",
       "3     44.6444    -68.7402     46.1073   -64.67380   46.0   22.199707   \n",
       "4     26.1550    -98.2040     48.8584     2.34901  123.0   11.579812   \n",
       "5     40.6450    -73.9450     48.8584     2.34901  143.0    1.007712   \n",
       "6     46.5370   -111.7700     51.1315  -114.01060   80.0    4.851995   \n",
       "7     47.9676   -116.6809     51.1315  -114.01060   14.0   24.156381   \n",
       "8     39.9460    -74.5560     48.8584     2.34901   99.0   22.224838   \n",
       "9     25.7741    -80.1817     52.3086     4.76390  175.0    7.524361   \n",
       "\n",
       "     distance  penalized_rtt  penalized_throughput  \n",
       "0    2.956431      19.618252              3.507660  \n",
       "1   91.206343       1.436304              7.839687  \n",
       "2   86.632025       1.165851              8.211233  \n",
       "3    4.321537      10.644360              4.711657  \n",
       "4  103.084200       1.193199              3.402912  \n",
       "5   76.734842       1.863560              1.003849  \n",
       "6    5.111724      15.650298              2.202725  \n",
       "7    4.140141       3.381528              4.914914  \n",
       "8   77.419710       1.278744              4.714323  \n",
       "9   88.993453       1.966437              2.743057  "
      ]
     },
     "execution_count": 12,
     "metadata": {},
     "output_type": "execute_result"
    }
   ],
   "source": [
    "df.head(10)"
   ]
  },
  {
   "cell_type": "code",
   "execution_count": null,
   "id": "63998751-da41-4a93-8e19-1c9c2b93f5ec",
   "metadata": {},
   "outputs": [],
   "source": [
    "fig = px.density_mapbox(df, lat='client_lat', lon='client_lon', z='rtt', radius=10,\n",
    "                        center=dict(lat=0, lon=180), zoom=0,\n",
    "                        mapbox_style=\"open-street-map\")\n",
    "fig.show()\n",
    "# fig.write_html('../graphs/15-19rtt.html')"
   ]
  },
  {
   "cell_type": "code",
   "execution_count": null,
   "id": "1900d14f-3725-46ce-b9a6-cd341d2ec543",
   "metadata": {},
   "outputs": [],
   "source": [
    "fig = px.density_mapbox(df, lat='client_lat', lon='client_lon', z='penalized_rtt', radius=10,\n",
    "                        center=dict(lat=0, lon=180), zoom=0,\n",
    "                        mapbox_style=\"open-street-map\")\n",
    "fig.show()\n",
    "# fig.write_html('../graphs/15-19penalized_rtt.html')"
   ]
  },
  {
   "cell_type": "code",
   "execution_count": null,
   "id": "41784345-52a8-453c-9f8f-8573127eb6f4",
   "metadata": {},
   "outputs": [],
   "source": [
    "fig = px.density_mapbox(df, lat='client_lat', lon='client_lon', z='penalized_throughput', radius=10,\n",
    "                        center=dict(lat=0, lon=180), zoom=0,\n",
    "                        mapbox_style=\"open-street-map\")\n",
    "fig.show()"
   ]
  },
  {
   "cell_type": "markdown",
   "id": "16d1bd62-78fa-4b2c-8797-e176e8630c88",
   "metadata": {},
   "source": [
    "now we wang to filter out the rows where penalized_rtt > 50"
   ]
  },
  {
   "cell_type": "code",
   "execution_count": 23,
   "id": "0162a30f-ef31-44e4-a1cf-a79501759d06",
   "metadata": {},
   "outputs": [],
   "source": [
    "df = df[df['penalized_rtt'] < 50]"
   ]
  },
  {
   "cell_type": "code",
   "execution_count": 24,
   "id": "56a4a4fd-89e8-44cb-b8a0-07af07ef3686",
   "metadata": {},
   "outputs": [
    {
     "data": {
      "text/html": [
       "<div>\n",
       "<style scoped>\n",
       "    .dataframe tbody tr th:only-of-type {\n",
       "        vertical-align: middle;\n",
       "    }\n",
       "\n",
       "    .dataframe tbody tr th {\n",
       "        vertical-align: top;\n",
       "    }\n",
       "\n",
       "    .dataframe thead th {\n",
       "        text-align: right;\n",
       "    }\n",
       "</style>\n",
       "<table border=\"1\" class=\"dataframe\">\n",
       "  <thead>\n",
       "    <tr style=\"text-align: right;\">\n",
       "      <th></th>\n",
       "      <th>client_lat</th>\n",
       "      <th>client_lon</th>\n",
       "      <th>server_lat</th>\n",
       "      <th>server_lon</th>\n",
       "      <th>rtt</th>\n",
       "      <th>throughput</th>\n",
       "      <th>distance</th>\n",
       "      <th>penalized_rtt</th>\n",
       "      <th>penalized_throughput</th>\n",
       "    </tr>\n",
       "  </thead>\n",
       "  <tbody>\n",
       "    <tr>\n",
       "      <th>0</th>\n",
       "      <td>48.1990</td>\n",
       "      <td>-114.3860</td>\n",
       "      <td>51.1315</td>\n",
       "      <td>-114.01060</td>\n",
       "      <td>58.0</td>\n",
       "      <td>12.303676</td>\n",
       "      <td>2.956431</td>\n",
       "      <td>19.618252</td>\n",
       "      <td>3.507660</td>\n",
       "    </tr>\n",
       "    <tr>\n",
       "      <th>1</th>\n",
       "      <td>42.1616</td>\n",
       "      <td>-84.0238</td>\n",
       "      <td>58.8767</td>\n",
       "      <td>5.63780</td>\n",
       "      <td>131.0</td>\n",
       "      <td>61.460690</td>\n",
       "      <td>91.206343</td>\n",
       "      <td>1.436304</td>\n",
       "      <td>7.839687</td>\n",
       "    </tr>\n",
       "    <tr>\n",
       "      <th>2</th>\n",
       "      <td>42.1616</td>\n",
       "      <td>-84.0238</td>\n",
       "      <td>48.8584</td>\n",
       "      <td>2.34900</td>\n",
       "      <td>101.0</td>\n",
       "      <td>67.424352</td>\n",
       "      <td>86.632025</td>\n",
       "      <td>1.165851</td>\n",
       "      <td>8.211233</td>\n",
       "    </tr>\n",
       "    <tr>\n",
       "      <th>3</th>\n",
       "      <td>44.6444</td>\n",
       "      <td>-68.7402</td>\n",
       "      <td>46.1073</td>\n",
       "      <td>-64.67380</td>\n",
       "      <td>46.0</td>\n",
       "      <td>22.199707</td>\n",
       "      <td>4.321537</td>\n",
       "      <td>10.644360</td>\n",
       "      <td>4.711657</td>\n",
       "    </tr>\n",
       "    <tr>\n",
       "      <th>4</th>\n",
       "      <td>26.1550</td>\n",
       "      <td>-98.2040</td>\n",
       "      <td>48.8584</td>\n",
       "      <td>2.34901</td>\n",
       "      <td>123.0</td>\n",
       "      <td>11.579812</td>\n",
       "      <td>103.084200</td>\n",
       "      <td>1.193199</td>\n",
       "      <td>3.402912</td>\n",
       "    </tr>\n",
       "    <tr>\n",
       "      <th>...</th>\n",
       "      <td>...</td>\n",
       "      <td>...</td>\n",
       "      <td>...</td>\n",
       "      <td>...</td>\n",
       "      <td>...</td>\n",
       "      <td>...</td>\n",
       "      <td>...</td>\n",
       "      <td>...</td>\n",
       "      <td>...</td>\n",
       "    </tr>\n",
       "    <tr>\n",
       "      <th>130721</th>\n",
       "      <td>33.7011</td>\n",
       "      <td>-117.7970</td>\n",
       "      <td>33.9425</td>\n",
       "      <td>-118.40720</td>\n",
       "      <td>10.0</td>\n",
       "      <td>14.161295</td>\n",
       "      <td>0.656215</td>\n",
       "      <td>15.238910</td>\n",
       "      <td>3.763150</td>\n",
       "    </tr>\n",
       "    <tr>\n",
       "      <th>130722</th>\n",
       "      <td>36.1440</td>\n",
       "      <td>-115.2790</td>\n",
       "      <td>33.9425</td>\n",
       "      <td>-118.40720</td>\n",
       "      <td>32.0</td>\n",
       "      <td>45.975638</td>\n",
       "      <td>3.825211</td>\n",
       "      <td>8.365552</td>\n",
       "      <td>6.780534</td>\n",
       "    </tr>\n",
       "    <tr>\n",
       "      <th>130723</th>\n",
       "      <td>32.2220</td>\n",
       "      <td>-110.9260</td>\n",
       "      <td>33.9425</td>\n",
       "      <td>-118.40720</td>\n",
       "      <td>15.0</td>\n",
       "      <td>82.877427</td>\n",
       "      <td>7.676488</td>\n",
       "      <td>1.954018</td>\n",
       "      <td>9.103704</td>\n",
       "    </tr>\n",
       "    <tr>\n",
       "      <th>130724</th>\n",
       "      <td>32.6360</td>\n",
       "      <td>-117.0530</td>\n",
       "      <td>33.9425</td>\n",
       "      <td>-118.40720</td>\n",
       "      <td>9.0</td>\n",
       "      <td>70.964445</td>\n",
       "      <td>1.881701</td>\n",
       "      <td>4.782906</td>\n",
       "      <td>8.424040</td>\n",
       "    </tr>\n",
       "    <tr>\n",
       "      <th>130725</th>\n",
       "      <td>36.1440</td>\n",
       "      <td>-115.2790</td>\n",
       "      <td>33.9425</td>\n",
       "      <td>-118.40720</td>\n",
       "      <td>9.0</td>\n",
       "      <td>99.071716</td>\n",
       "      <td>3.825211</td>\n",
       "      <td>2.352812</td>\n",
       "      <td>9.953478</td>\n",
       "    </tr>\n",
       "  </tbody>\n",
       "</table>\n",
       "<p>112359 rows × 9 columns</p>\n",
       "</div>"
      ],
      "text/plain": [
       "        client_lat  client_lon  server_lat  server_lon    rtt  throughput  \\\n",
       "0          48.1990   -114.3860     51.1315  -114.01060   58.0   12.303676   \n",
       "1          42.1616    -84.0238     58.8767     5.63780  131.0   61.460690   \n",
       "2          42.1616    -84.0238     48.8584     2.34900  101.0   67.424352   \n",
       "3          44.6444    -68.7402     46.1073   -64.67380   46.0   22.199707   \n",
       "4          26.1550    -98.2040     48.8584     2.34901  123.0   11.579812   \n",
       "...            ...         ...         ...         ...    ...         ...   \n",
       "130721     33.7011   -117.7970     33.9425  -118.40720   10.0   14.161295   \n",
       "130722     36.1440   -115.2790     33.9425  -118.40720   32.0   45.975638   \n",
       "130723     32.2220   -110.9260     33.9425  -118.40720   15.0   82.877427   \n",
       "130724     32.6360   -117.0530     33.9425  -118.40720    9.0   70.964445   \n",
       "130725     36.1440   -115.2790     33.9425  -118.40720    9.0   99.071716   \n",
       "\n",
       "          distance  penalized_rtt  penalized_throughput  \n",
       "0         2.956431      19.618252              3.507660  \n",
       "1        91.206343       1.436304              7.839687  \n",
       "2        86.632025       1.165851              8.211233  \n",
       "3         4.321537      10.644360              4.711657  \n",
       "4       103.084200       1.193199              3.402912  \n",
       "...            ...            ...                   ...  \n",
       "130721    0.656215      15.238910              3.763150  \n",
       "130722    3.825211       8.365552              6.780534  \n",
       "130723    7.676488       1.954018              9.103704  \n",
       "130724    1.881701       4.782906              8.424040  \n",
       "130725    3.825211       2.352812              9.953478  \n",
       "\n",
       "[112359 rows x 9 columns]"
      ]
     },
     "execution_count": 24,
     "metadata": {},
     "output_type": "execute_result"
    }
   ],
   "source": [
    "df"
   ]
  },
  {
   "cell_type": "code",
   "execution_count": null,
   "id": "10d1993e-9646-4c45-8c7f-31785e49598f",
   "metadata": {},
   "outputs": [],
   "source": [
    "fig = px.density_mapbox(df, lat='client_lat', lon='client_lon', z='penalized_rtt', radius=10,\n",
    "                        center=dict(lat=0, lon=180), zoom=0,\n",
    "                        mapbox_style=\"open-street-map\")\n",
    "\n",
    "fig.show()\n",
    "# fig.write_html('../graphs/15-19penalized_rtt<50.html')"
   ]
  },
  {
   "cell_type": "code",
   "execution_count": null,
   "id": "ea0b80ee-b1e9-406a-a44c-e22c6eac425f",
   "metadata": {},
   "outputs": [],
   "source": []
  }
 ],
 "metadata": {
  "kernelspec": {
   "display_name": "Python 3 (ipykernel)",
   "language": "python",
   "name": "python3"
  },
  "language_info": {
   "codemirror_mode": {
    "name": "ipython",
    "version": 3
   },
   "file_extension": ".py",
   "mimetype": "text/x-python",
   "name": "python",
   "nbconvert_exporter": "python",
   "pygments_lexer": "ipython3",
   "version": "3.9.7"
  }
 },
 "nbformat": 4,
 "nbformat_minor": 5
}
